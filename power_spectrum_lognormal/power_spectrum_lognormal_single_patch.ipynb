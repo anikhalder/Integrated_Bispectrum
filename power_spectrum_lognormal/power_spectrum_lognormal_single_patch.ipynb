{
 "cells": [
  {
   "cell_type": "code",
   "execution_count": null,
   "metadata": {},
   "outputs": [],
   "source": [
    "# Headers\n",
    "\n",
    "import numpy as np\n",
    "import matplotlib.pyplot as plt\n",
    "%matplotlib inline\n",
    "\n",
    "import healpy as hp\n",
    "\n",
    "from astropy.io import fits\n",
    "from astropy.table import Table, Column\n",
    "\n",
    "import treecorr"
   ]
  },
  {
   "cell_type": "code",
   "execution_count": null,
   "metadata": {},
   "outputs": [],
   "source": [
    "def calculate_patch_radius(patch_area_sq_degrees):\n",
    "    return np.arccos(1-patch_area_sq_degrees*np.pi/(2*180*180))\n",
    "\n",
    "sq_degrees = 1000\n",
    "\n",
    "patch_radius = calculate_patch_radius(sq_degrees)"
   ]
  },
  {
   "cell_type": "markdown",
   "metadata": {},
   "source": [
    "# Input Cl's"
   ]
  },
  {
   "cell_type": "code",
   "execution_count": null,
   "metadata": {},
   "outputs": [],
   "source": [
    "def read_cl():\n",
    "    l = np.loadtxt('../data/Cell_data-f1z1f1z1.dat', usecols=(0))\n",
    "    l = np.append(np.array([0.0,1.0]), l[:8191])\n",
    "    cl = np.loadtxt('../data/Cell_data-f1z1f1z1.dat', usecols=(1))\n",
    "    cl = np.append(np.array([0.0,0.0]), cl[:8191])\n",
    "    return l, cl\n",
    "\n",
    "l , cl = read_cl()"
   ]
  },
  {
   "cell_type": "code",
   "execution_count": null,
   "metadata": {},
   "outputs": [],
   "source": [
    "plt.figure(figsize=(9,9))\n",
    "\n",
    "plt.scatter(l, l*(l+1)*cl/(2*np.pi))\n",
    "plt.yscale('log')\n",
    "plt.xscale('log')\n",
    "plt.xlim(1,8192)\n",
    "plt.ylim(1e-5,1)\n",
    "plt.xlabel('Multipole moment, $l$', fontsize=14)\n",
    "plt.ylabel('Power, $l(l+1)C_l$ / $2π$', fontsize=14)\n",
    "plt.title('Angular Power spectrum ($C_l$\\'s from halofit)', fontsize=14)\n",
    "plt.savefig('./simulations_output/plot_output/Angular_power_spectrum_Cl_data.pdf')"
   ]
  },
  {
   "cell_type": "markdown",
   "metadata": {},
   "source": [
    "# FLASK (for creating lognormal map)"
   ]
  },
  {
   "cell_type": "code",
   "execution_count": null,
   "metadata": {},
   "outputs": [],
   "source": [
    "# use the lognormal_map_producer.sh from terminal\n",
    "# as a first step flask calculates the theoretical angular correlation function and outputs it as a .dat file\n",
    "\n",
    "theta_flask = np.loadtxt('./simulations_output/lognormal_map/Xi_flask.dat', usecols=(0))\n",
    "w_flask = np.loadtxt('./simulations_output/lognormal_map/Xi_flask.dat', usecols=(1)) # w(theta)"
   ]
  },
  {
   "cell_type": "markdown",
   "metadata": {},
   "source": [
    "### Check for the value of the angular correlation function (using formula with Legendre polynomials)"
   ]
  },
  {
   "cell_type": "code",
   "execution_count": null,
   "metadata": {},
   "outputs": [],
   "source": [
    "def w_theta(theta):\n",
    "    x = np.cos(theta)\n",
    "    coeff = (2*l+1)/(4*np.pi)*cl\n",
    "    w = np.polynomial.legendre.legval(x, coeff)\n",
    "    return w     "
   ]
  },
  {
   "cell_type": "code",
   "execution_count": null,
   "metadata": {},
   "outputs": [],
   "source": [
    "plt.figure(figsize=(9,9))\n",
    "plt.scatter(theta_flask, w_flask, marker=10, label='flask $w(θ)$')\n",
    "plt.plot(theta_flask, w_theta(theta_flask*np.pi/180), c='r', label='theoretical halofit $w(θ)$')\n",
    "plt.xlim(0.01,5)\n",
    "plt.ylim(1e-5, 1)\n",
    "plt.xscale('log')\n",
    "plt.yscale('log')\n",
    "plt.xlabel('Angle, $θ$ (degrees)', fontsize=14)\n",
    "plt.ylabel('Angular Correlation, $w(θ)$', fontsize=14)\n",
    "plt.title('Comparison of w($θ$) computed by flask and from theory')\n",
    "plt.legend(loc='best', fontsize=11)\n",
    "plt.savefig('./simulations_output/plot_output/flask_and_theoretical_angular_correlation.pdf')\n",
    "\n",
    "# Reason for the slight discrepancy between the formula (red) and flask (blue) might be due to the fact that for\n",
    "# l=1, we set cl=0 (for formula computation) whereas flask uses an extrapolated cl value for l=1 which isn't 0"
   ]
  },
  {
   "cell_type": "markdown",
   "metadata": {},
   "source": [
    "# Flask output: Visualize Lognormal density field in Healpy map"
   ]
  },
  {
   "cell_type": "code",
   "execution_count": null,
   "metadata": {},
   "outputs": [],
   "source": [
    "# flask produces the Lognormal density field (using healpy to get Gaussian field and then exponentiating)\n",
    "# as a healpy fits map\n",
    "\n",
    "density_field_lognormal = hp.fitsfunc.read_map('./simulations_output/lognormal_map/lognormal_map.fits')\n",
    "\n",
    "nside = 4096\n",
    "\n",
    "plt.figure(figsize=(12,12))\n",
    "hp.mollview(density_field_lognormal, min=-1, max=4)\n",
    "hp.graticule()\n",
    "plt.savefig('./simulations_output/plot_output/density_field_lognormal_map.pdf')"
   ]
  },
  {
   "cell_type": "markdown",
   "metadata": {},
   "source": [
    "# Make a single patch of pixels and save with astropy (fits) for feeding into treecorr"
   ]
  },
  {
   "cell_type": "code",
   "execution_count": null,
   "metadata": {},
   "outputs": [],
   "source": [
    "# Choose a random pixel i.e. center of spherical cap around which to take sq_degrees area\n",
    "disc_center = hp.pix2vec(nside, 101010101)\n",
    "\n",
    "# radius (in radians) corresponding to area of spherical cap in sky\n",
    "\n",
    "# find the pixels \n",
    "pixels_indices_disc = hp.query_disc(nside, disc_center, patch_radius)\n",
    "\n",
    "density_field_lognormal_disc = density_field_lognormal[pixels_indices_disc]\n",
    "dec = np.pi/2 - hp.pix2ang(nside, pixels_indices_disc)[0]\n",
    "RA = hp.pix2ang(nside, pixels_indices_disc)[1]\n",
    "\n",
    "# for saving into fits file with astropy\n",
    "RA_data = Column(RA, name='RA', dtype='float') # column having ra\n",
    "dec_data = Column(dec, name='dec', dtype='float') # column having dec\n",
    "del_data = Column(density_field_lognormal_disc, name='del', dtype='float') # column having pixels_disc_values\n",
    "\n",
    "density_fluctuations_table = Table((RA_data, dec_data, del_data))  \n",
    "# density_fluctuations_table.show_in_notebook()\n",
    "\n",
    "density_fluctuations_table.write(\"./simulations_output/single_patch/density_fluctuations_lognormal_single_patch.fits\" , overwrite=True)\n",
    "\n",
    "# 1-pt PDF of density fluctuations within patch\n",
    "\n",
    "plt.figure(figsize=(9,9))\n",
    "plt.hist(density_field_lognormal_disc, bins=1000)\n",
    "plt.xlabel('density fluctuations ($δ$)', fontsize=14)\n",
    "plt.xlim(-2,8)\n",
    "plt.title('1-pt PDF density fluctuations Lognormal map (single patch '+str(sq_degrees)+' sq. degrees)', fontsize=14)\n",
    "plt.savefig(\"./simulations_output/plot_output/1_pt_PDF_single_patch/density_fluctuations_lognormal_1_pt_PDF_single_patch.pdf\")"
   ]
  },
  {
   "cell_type": "markdown",
   "metadata": {},
   "source": [
    "# TreeCorr: for autocorrelation of the Lognormal density fluctuations"
   ]
  },
  {
   "cell_type": "code",
   "execution_count": null,
   "metadata": {},
   "outputs": [],
   "source": [
    "density_fluctuations = hp.read_cl('./simulations_output/single_patch/density_fluctuations_lognormal_single_patch.fits')\n",
    "\n",
    "density_fluctuations_RA = density_fluctuations[0,:]\n",
    "density_fluctuations_dec = density_fluctuations[1,:]\n",
    "density_fluctuations_del = density_fluctuations[2,:]\n",
    "\n",
    "cat = treecorr.Catalog(ra=density_fluctuations_RA, dec=density_fluctuations_dec,\n",
    "                       ra_units='rad', dec_units='rad', k=density_fluctuations_del)\n",
    "\n",
    "kk = treecorr.KKCorrelation(min_sep=1, max_sep=300, nbins=20, sep_units='arcmin')\n",
    "kk.process(cat) \n",
    "theta_tc = kk.rnom\n",
    "w_tc = kk.xi\n",
    "\n",
    "dat = np.array([theta_tc, w_tc])\n",
    "dat = dat.T\n",
    "np.savetxt('./simulations_output/single_patch/treecorr_angular_correlation_lognormal_single_patch.txt', dat, delimiter = ' ')"
   ]
  },
  {
   "cell_type": "markdown",
   "metadata": {},
   "source": [
    "# Comparison of $w(\\theta)$ from treecorr and from theoretical halofit $C_l$"
   ]
  },
  {
   "cell_type": "code",
   "execution_count": null,
   "metadata": {},
   "outputs": [],
   "source": [
    "theta_treecorr = np.loadtxt('./simulations_output/single_patch/treecorr_angular_correlation_lognormal_single_patch.txt', usecols=(0)) # in arcmins\n",
    "w_treecorr = np.loadtxt('./simulations_output/single_patch/treecorr_angular_correlation_lognormal_single_patch.txt', usecols=(1)) # w(theta)\n",
    "\n",
    "plt.figure(figsize=(9,9))\n",
    "plt.scatter(theta_treecorr,w_treecorr, marker=10, label='treecorr')\n",
    "plt.plot(theta_treecorr, w_theta(theta_treecorr/60*np.pi/180), c='r', label='theoretical halofit $w(θ)$')\n",
    "plt.xlim(1,300)\n",
    "plt.ylim(1e-5, 1)\n",
    "plt.xscale('log')\n",
    "plt.yscale('log')\n",
    "plt.xlabel('Angle, $θ$ (arcmins)', fontsize=14)\n",
    "plt.ylabel('Angular Correlation, $w(θ)$', fontsize=14)\n",
    "plt.title('Angular Correlation of Lognormal density fluctuations (single patch '+str(sq_degrees)+' sq. degrees)')\n",
    "plt.legend(loc='best', fontsize=11)\n",
    "plt.savefig('./simulations_output/plot_output/treecorr_and_theoretical_angular_correlation_lognormal_single_patch.pdf')"
   ]
  },
  {
   "cell_type": "code",
   "execution_count": null,
   "metadata": {},
   "outputs": [],
   "source": []
  }
 ],
 "metadata": {
  "kernelspec": {
   "display_name": "Python 3",
   "language": "python",
   "name": "python3"
  },
  "language_info": {
   "codemirror_mode": {
    "name": "ipython",
    "version": 3
   },
   "file_extension": ".py",
   "mimetype": "text/x-python",
   "name": "python",
   "nbconvert_exporter": "python",
   "pygments_lexer": "ipython3",
   "version": "3.6.8"
  }
 },
 "nbformat": 4,
 "nbformat_minor": 2
}
