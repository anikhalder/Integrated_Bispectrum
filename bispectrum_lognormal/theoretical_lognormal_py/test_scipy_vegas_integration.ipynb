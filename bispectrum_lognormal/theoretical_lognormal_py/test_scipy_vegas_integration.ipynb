{
 "cells": [
  {
   "cell_type": "code",
   "execution_count": 1,
   "metadata": {},
   "outputs": [],
   "source": [
    "import numpy as np\n",
    "import matplotlib.pyplot as plt\n",
    "%matplotlib inline\n",
    "from scipy import interpolate\n",
    "from scipy import integrate \n",
    "import vegas\n",
    "import math"
   ]
  },
  {
   "cell_type": "code",
   "execution_count": 65,
   "metadata": {},
   "outputs": [],
   "source": [
    "def area_patch(omega_patch, patch_size):\n",
    "    def integrand(theta, phi):\n",
    "        return np.sin(theta)\n",
    "\n",
    "    area = integrate.nquad(integrand, [[0, patch_size], [0, 2*np.pi]])[0]\n",
    "\n",
    "    return area"
   ]
  },
  {
   "cell_type": "code",
   "execution_count": 66,
   "metadata": {},
   "outputs": [],
   "source": [
    "#t1 = [0.031, 3.2]\n",
    "t1 = [0.003, 0]\n",
    "t2 = [2.1, 0.7]\n",
    "t3 = [0.0155, 3.141592653589793]\n",
    "t4 = [0.010936910628127367, 3.141592653589793]\n",
    "t5 = [0.020063089371872633, 3.141592653589793]\n",
    "t6 = [0.0155, 3.141592653589793]\n",
    "t7 = [0.0312, 0.4]\n",
    "t8 = [0.0309, 0.4]\n",
    "tL = [0.0, 0.0] # location of patch -> at the north pole\n",
    "\n",
    "t_patch_size = 0.031 # size of patch (in radians)\n",
    "t_scale = 0.003 # scale we are interested (in radians)\n",
    "log_shift = 1.0"
   ]
  },
  {
   "cell_type": "code",
   "execution_count": 67,
   "metadata": {},
   "outputs": [
    {
     "name": "stdout",
     "output_type": "stream",
     "text": [
      "Area of the patch =  0.003018828770612169\n"
     ]
    }
   ],
   "source": [
    "A_L = area_patch(tL, t_patch_size)\n",
    "print(\"Area of the patch = \", A_L)"
   ]
  },
  {
   "cell_type": "code",
   "execution_count": 85,
   "metadata": {},
   "outputs": [],
   "source": [
    "def area_patch_vegas(omega_patch, patch_size):\n",
    "    def integrand(x): # x[0] stands for theta, x[1] stands for phi   \n",
    "        return np.sin(x[0])\n",
    "\n",
    "    integ = vegas.Integrator([[0, patch_size], [0, 2*np.pi]])\n",
    "\n",
    "    area = integ(integrand, nitn=10, neval=2000)\n",
    "    #print(result.summary())\n",
    "    #print('result = %s    Q = %.2f' % (result, result.Q))\n",
    "    \n",
    "    return area"
   ]
  },
  {
   "cell_type": "code",
   "execution_count": 86,
   "metadata": {},
   "outputs": [
    {
     "name": "stdout",
     "output_type": "stream",
     "text": [
      "Area of the patch =  0.0030186675601286826\n"
     ]
    }
   ],
   "source": [
    "A_L_vegas = area_patch_vegas(tL, t_patch_size)\n",
    "print(\"Area of the patch = \", A_L_vegas.mean)"
   ]
  },
  {
   "cell_type": "code",
   "execution_count": null,
   "metadata": {},
   "outputs": [],
   "source": []
  }
 ],
 "metadata": {
  "kernelspec": {
   "display_name": "Python 3",
   "language": "python",
   "name": "python3"
  },
  "language_info": {
   "codemirror_mode": {
    "name": "ipython",
    "version": 3
   },
   "file_extension": ".py",
   "mimetype": "text/x-python",
   "name": "python",
   "nbconvert_exporter": "python",
   "pygments_lexer": "ipython3",
   "version": "3.6.8"
  }
 },
 "nbformat": 4,
 "nbformat_minor": 2
}
