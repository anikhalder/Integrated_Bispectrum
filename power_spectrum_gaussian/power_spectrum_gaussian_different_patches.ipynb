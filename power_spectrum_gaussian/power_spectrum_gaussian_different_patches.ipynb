{
 "cells": [
  {
   "cell_type": "code",
   "execution_count": 1,
   "metadata": {},
   "outputs": [],
   "source": [
    "# Headers\n",
    "\n",
    "import numpy as np\n",
    "import matplotlib.pyplot as plt\n",
    "%matplotlib inline\n",
    "\n",
    "import healpy as hp\n",
    "\n",
    "from astropy.io import fits\n",
    "from astropy.table import Table, Column\n",
    "\n",
    "import treecorr"
   ]
  },
  {
   "cell_type": "markdown",
   "metadata": {},
   "source": [
    "# Input Cl's"
   ]
  },
  {
   "cell_type": "code",
   "execution_count": 2,
   "metadata": {},
   "outputs": [],
   "source": [
    "def read_cl():\n",
    "    l = np.loadtxt('../data/Cell_data-f1z1f1z1.dat', usecols=(0))\n",
    "    l = np.append(np.array([0.0,1.0]), l[:8191])\n",
    "    cl = np.loadtxt('../data/Cell_data-f1z1f1z1.dat', usecols=(1))\n",
    "    cl = np.append(np.array([0.0,0.0]), cl[:8191])\n",
    "    return l, cl\n",
    "\n",
    "l , cl = read_cl()"
   ]
  },
  {
   "cell_type": "code",
   "execution_count": 3,
   "metadata": {},
   "outputs": [
    {
     "data": {
      "image/png": "[encoded data removed]",
      "text/plain": [
       "<Figure size 648x648 with 1 Axes>"
      ]
     },
     "metadata": {
      "needs_background": "light"
     },
     "output_type": "display_data"
    }
   ],
   "source": [
    "plt.figure(figsize=(9,9))\n",
    "\n",
    "plt.scatter(l, l*(l+1)*cl/(2*np.pi))\n",
    "plt.yscale('log')\n",
    "plt.xscale('log')\n",
    "plt.xlim(1,8192)\n",
    "plt.ylim(1e-5,1)\n",
    "plt.xlabel('Multipole moment, l', fontsize=14)\n",
    "plt.ylabel('Power, l(l+1)C_l', fontsize=14)\n",
    "plt.title('Angular Power spectrum (theoretical)', fontsize=14)\n",
    "plt.savefig('./simulations_output/plot_output/Angular_power_spectrum_Cl_data.pdf')"
   ]
  },
  {
   "cell_type": "markdown",
   "metadata": {},
   "source": [
    "# Healpy (for visualisation and creating map)"
   ]
  },
  {
   "cell_type": "code",
   "execution_count": 4,
   "metadata": {},
   "outputs": [],
   "source": [
    "# can also be done just by reading the normal txt file instead of the fits file\n",
    "\n",
    "nside = 4096\n",
    "\n",
    "#density_field_gaussian = hp.synfast(cl, nside)\n",
    "#hp.write_map(\"./simulations_output/gaussian_map/gaussian_map.fits\", density_field_gaussian)"
   ]
  },
  {
   "cell_type": "code",
   "execution_count": 5,
   "metadata": {},
   "outputs": [
    {
     "name": "stdout",
     "output_type": "stream",
     "text": [
      "NSIDE = 4096\n",
      "ORDERING = RING in fits file\n",
      "INDXSCHM = IMPLICIT\n"
     ]
    }
   ],
   "source": [
    "density_field_gaussian = hp.fitsfunc.read_map('./simulations_output/gaussian_map/gaussian_map.fits')\n",
    "\n",
    "#plt.figure(figsize=(12,12))\n",
    "#hp.mollview(density_field_gaussian, min=-1, max=4)\n",
    "#hp.graticule()\n",
    "#plt.savefig('./simulations_output/plot_output/density_field_gaussian_map.pdf')"
   ]
  },
  {
   "cell_type": "markdown",
   "metadata": {},
   "source": [
    "# Make patches of pixels and save with astropy (fits) for feeding into treecorr"
   ]
  },
  {
   "cell_type": "markdown",
   "metadata": {},
   "source": [
    "### Patch 1"
   ]
  },
  {
   "cell_type": "code",
   "execution_count": 14,
   "metadata": {},
   "outputs": [],
   "source": [
    "# Choose a random pixel i.e. center of disc (patch on the sky map) around which to take 1000 deg square area\n",
    "disc_center = hp.pix2vec(nside, 101010101)\n",
    "\n",
    "# radius (in radians) corresponding to 1000 deg square patch in sky = 0.31 radians\n",
    "\n",
    "# find the pixels \n",
    "pixels_indices_disc = hp.query_disc(nside, disc_center, 0.31)\n",
    "\n",
    "density_field_gaussian_disc = density_field_gaussian[pixels_indices_disc]\n",
    "dec = np.pi/2 - hp.pix2ang(nside, pixels_indices_disc)[0]\n",
    "RA = hp.pix2ang(nside, pixels_indices_disc)[1]\n",
    "\n",
    "# for saving into fits file with astropy\n",
    "RA_data = Column(RA, name='RA', dtype='float') # column having ra\n",
    "dec_data = Column(dec, name='dec', dtype='float') # column having dec\n",
    "del_g_data = Column(density_field_gaussian_disc, name='del_g', dtype='float') # column having pixels_disc_values\n",
    "\n",
    "density_fluctuations_table = Table((RA_data, dec_data, del_g_data))  \n",
    "# density_fluctuations_table.show_in_notebook()\n",
    "\n",
    "density_fluctuations_table.write(\"./simulations_output/different_patches/density_fluctuations_gaussian_patch_1.fits\" , overwrite=True)"
   ]
  },
  {
   "cell_type": "markdown",
   "metadata": {},
   "source": [
    "### Patch 2"
   ]
  },
  {
   "cell_type": "code",
   "execution_count": 15,
   "metadata": {},
   "outputs": [],
   "source": [
    "# Choose a random pixel i.e. center of disc (patch on the sky map) around which to take 1000 deg square area\n",
    "disc_center = hp.pix2vec(nside, 131010101)\n",
    "\n",
    "# radius (in radians) corresponding to 1000 deg square patch in sky = 0.31 radians\n",
    "\n",
    "# find the pixels \n",
    "pixels_indices_disc = hp.query_disc(nside, disc_center, 0.31)\n",
    "\n",
    "density_field_gaussian_disc = density_field_gaussian[pixels_indices_disc]\n",
    "dec = np.pi/2 - hp.pix2ang(nside, pixels_indices_disc)[0]\n",
    "RA = hp.pix2ang(nside, pixels_indices_disc)[1]\n",
    "\n",
    "# for saving into fits file with astropy\n",
    "RA_data = Column(RA, name='RA', dtype='float') # column having ra\n",
    "dec_data = Column(dec, name='dec', dtype='float') # column having dec\n",
    "del_g_data = Column(density_field_gaussian_disc, name='del_g', dtype='float') # column having pixels_disc_values\n",
    "\n",
    "density_fluctuations_table = Table((RA_data, dec_data, del_g_data))  \n",
    "# density_fluctuations_table.show_in_notebook()\n",
    "\n",
    "density_fluctuations_table.write(\"./simulations_output/different_patches/density_fluctuations_gaussian_patch_2.fits\" , overwrite=True)"
   ]
  },
  {
   "cell_type": "markdown",
   "metadata": {},
   "source": [
    "### Patch 3"
   ]
  },
  {
   "cell_type": "code",
   "execution_count": 16,
   "metadata": {},
   "outputs": [],
   "source": [
    "# Choose a random pixel i.e. center of disc (patch on the sky map) around which to take 1000 deg square area\n",
    "disc_center = hp.pix2vec(nside, 151010101)\n",
    "\n",
    "# radius (in radians) corresponding to 1000 deg square patch in sky = 0.31 radians\n",
    "\n",
    "# find the pixels \n",
    "pixels_indices_disc = hp.query_disc(nside, disc_center, 0.31)\n",
    "\n",
    "density_field_gaussian_disc = density_field_gaussian[pixels_indices_disc]\n",
    "dec = np.pi/2 - hp.pix2ang(nside, pixels_indices_disc)[0]\n",
    "RA = hp.pix2ang(nside, pixels_indices_disc)[1]\n",
    "\n",
    "# for saving into fits file with astropy\n",
    "RA_data = Column(RA, name='RA', dtype='float') # column having ra\n",
    "dec_data = Column(dec, name='dec', dtype='float') # column having dec\n",
    "del_g_data = Column(density_field_gaussian_disc, name='del_g', dtype='float') # column having pixels_disc_values\n",
    "\n",
    "density_fluctuations_table = Table((RA_data, dec_data, del_g_data))  \n",
    "# density_fluctuations_table.show_in_notebook()\n",
    "\n",
    "density_fluctuations_table.write(\"./simulations_output/different_patches/density_fluctuations_gaussian_patch_3.fits\" , overwrite=True)"
   ]
  },
  {
   "cell_type": "markdown",
   "metadata": {},
   "source": [
    "### Patch 4"
   ]
  },
  {
   "cell_type": "code",
   "execution_count": 17,
   "metadata": {},
   "outputs": [],
   "source": [
    "# Choose a random pixel i.e. center of disc (patch on the sky map) around which to take 1000 deg square area\n",
    "disc_center = hp.pix2vec(nside, 171010101)\n",
    "\n",
    "# radius (in radians) corresponding to 1000 deg square patch in sky = 0.31 radians\n",
    "\n",
    "# find the pixels \n",
    "pixels_indices_disc = hp.query_disc(nside, disc_center, 0.31)\n",
    "\n",
    "density_field_gaussian_disc = density_field_gaussian[pixels_indices_disc]\n",
    "dec = np.pi/2 - hp.pix2ang(nside, pixels_indices_disc)[0]\n",
    "RA = hp.pix2ang(nside, pixels_indices_disc)[1]\n",
    "\n",
    "# for saving into fits file with astropy\n",
    "RA_data = Column(RA, name='RA', dtype='float') # column having ra\n",
    "dec_data = Column(dec, name='dec', dtype='float') # column having dec\n",
    "del_g_data = Column(density_field_gaussian_disc, name='del_g', dtype='float') # column having pixels_disc_values\n",
    "\n",
    "density_fluctuations_table = Table((RA_data, dec_data, del_g_data))  \n",
    "# density_fluctuations_table.show_in_notebook()\n",
    "\n",
    "density_fluctuations_table.write(\"./simulations_output/different_patches/density_fluctuations_gaussian_patch_4.fits\" , overwrite=True)"
   ]
  },
  {
   "cell_type": "markdown",
   "metadata": {},
   "source": [
    "### Patch 5"
   ]
  },
  {
   "cell_type": "code",
   "execution_count": 18,
   "metadata": {},
   "outputs": [],
   "source": [
    "# Choose a random pixel i.e. center of disc (patch on the sky map) around which to take 1000 deg square area\n",
    "disc_center = hp.pix2vec(nside, 191010101)\n",
    "\n",
    "# radius (in radians) corresponding to 1000 deg square patch in sky = 0.31 radians\n",
    "\n",
    "# find the pixels \n",
    "pixels_indices_disc = hp.query_disc(nside, disc_center, 0.31)\n",
    "\n",
    "density_field_gaussian_disc = density_field_gaussian[pixels_indices_disc]\n",
    "dec = np.pi/2 - hp.pix2ang(nside, pixels_indices_disc)[0]\n",
    "RA = hp.pix2ang(nside, pixels_indices_disc)[1]\n",
    "\n",
    "# for saving into fits file with astropy\n",
    "RA_data = Column(RA, name='RA', dtype='float') # column having ra\n",
    "dec_data = Column(dec, name='dec', dtype='float') # column having dec\n",
    "del_g_data = Column(density_field_gaussian_disc, name='del_g', dtype='float') # column having pixels_disc_values\n",
    "\n",
    "density_fluctuations_table = Table((RA_data, dec_data, del_g_data))  \n",
    "# density_fluctuations_table.show_in_notebook()\n",
    "\n",
    "density_fluctuations_table.write(\"./simulations_output/different_patches/density_fluctuations_gaussian_patch_5.fits\" , overwrite=True)"
   ]
  },
  {
   "cell_type": "markdown",
   "metadata": {},
   "source": [
    "### Patch 6"
   ]
  },
  {
   "cell_type": "code",
   "execution_count": 19,
   "metadata": {},
   "outputs": [],
   "source": [
    "# # Choose a random pixel i.e. center of disc (patch on the sky map) around which to take 1000 deg square area\n",
    "disc_center = hp.pix2vec(nside, 51010101)\n",
    "\n",
    "# radius (in radians) corresponding to 1000 deg square patch in sky = 0.31 radians\n",
    "\n",
    "# find the pixels \n",
    "pixels_indices_disc = hp.query_disc(nside, disc_center, 0.31)\n",
    "\n",
    "density_field_gaussian_disc = density_field_gaussian[pixels_indices_disc]\n",
    "dec = np.pi/2 - hp.pix2ang(nside, pixels_indices_disc)[0]\n",
    "RA = hp.pix2ang(nside, pixels_indices_disc)[1]\n",
    "\n",
    "# for saving into fits file with astropy\n",
    "RA_data = Column(RA, name='RA', dtype='float') # column having ra\n",
    "dec_data = Column(dec, name='dec', dtype='float') # column having dec\n",
    "del_g_data = Column(density_field_gaussian_disc, name='del_g', dtype='float') # column having pixels_disc_values\n",
    "\n",
    "density_fluctuations_table = Table((RA_data, dec_data, del_g_data))  \n",
    "# density_fluctuations_table.show_in_notebook()\n",
    "\n",
    "density_fluctuations_table.write(\"./simulations_output/different_patches/density_fluctuations_gaussian_patch_6.fits\" , overwrite=True)"
   ]
  },
  {
   "cell_type": "markdown",
   "metadata": {},
   "source": [
    "# TreeCorr: for auto-correlation of the Gaussian density fluctuations"
   ]
  },
  {
   "cell_type": "markdown",
   "metadata": {},
   "source": [
    "### Patch 1"
   ]
  },
  {
   "cell_type": "code",
   "execution_count": 20,
   "metadata": {},
   "outputs": [],
   "source": [
    "density_fluctuations = hp.read_cl('./simulations_output/different_patches/density_fluctuations_gaussian_patch_1.fits')\n",
    "\n",
    "density_fluctuations_RA = density_fluctuations[0,:]\n",
    "density_fluctuations_dec = density_fluctuations[1,:]\n",
    "density_fluctuations_del_g = density_fluctuations[2,:]\n",
    "\n",
    "cat = treecorr.Catalog(ra=density_fluctuations_RA, dec=density_fluctuations_dec,\n",
    "                        ra_units='rad', dec_units='rad', k=density_fluctuations_del_g)\n",
    "\n",
    "kk = treecorr.KKCorrelation(min_sep=1, max_sep=300, nbins=20, sep_units='arcmin')\n",
    "kk.process(cat) \n",
    "theta_tc = kk.meanr\n",
    "xi_tc = kk.xi\n",
    "\n",
    "dat = np.array([theta_tc, xi_tc])\n",
    "dat = dat.T\n",
    "np.savetxt('./simulations_output/different_patches/treecorr_angular_correlation_gaussian_patch_1.txt', dat, delimiter = ' ')"
   ]
  },
  {
   "cell_type": "markdown",
   "metadata": {},
   "source": [
    "### Patch 2"
   ]
  },
  {
   "cell_type": "code",
   "execution_count": 21,
   "metadata": {},
   "outputs": [],
   "source": [
    "density_fluctuations = hp.read_cl('./simulations_output/different_patches/density_fluctuations_gaussian_patch_2.fits')\n",
    "\n",
    "density_fluctuations_RA = density_fluctuations[0,:]\n",
    "density_fluctuations_dec = density_fluctuations[1,:]\n",
    "density_fluctuations_del_g = density_fluctuations[2,:]\n",
    "\n",
    "cat = treecorr.Catalog(ra=density_fluctuations_RA, dec=density_fluctuations_dec,\n",
    "                        ra_units='rad', dec_units='rad', k=density_fluctuations_del_g)\n",
    "\n",
    "kk = treecorr.KKCorrelation(min_sep=1, max_sep=300, nbins=20, sep_units='arcmin')\n",
    "kk.process(cat) \n",
    "theta_tc = kk.meanr\n",
    "xi_tc = kk.xi\n",
    "\n",
    "dat = np.array([theta_tc, xi_tc])\n",
    "dat = dat.T\n",
    "np.savetxt('./simulations_output/different_patches/treecorr_angular_correlation_gaussian_patch_2.txt', dat, delimiter = ' ')"
   ]
  },
  {
   "cell_type": "markdown",
   "metadata": {},
   "source": [
    "### Patch 3"
   ]
  },
  {
   "cell_type": "code",
   "execution_count": 22,
   "metadata": {},
   "outputs": [],
   "source": [
    "density_fluctuations = hp.read_cl('./simulations_output/different_patches/density_fluctuations_gaussian_patch_3.fits')\n",
    "\n",
    "density_fluctuations_RA = density_fluctuations[0,:]\n",
    "density_fluctuations_dec = density_fluctuations[1,:]\n",
    "density_fluctuations_del_g = density_fluctuations[2,:]\n",
    "\n",
    "cat = treecorr.Catalog(ra=density_fluctuations_RA, dec=density_fluctuations_dec,\n",
    "                        ra_units='rad', dec_units='rad', k=density_fluctuations_del_g)\n",
    "\n",
    "kk = treecorr.KKCorrelation(min_sep=1, max_sep=300, nbins=20, sep_units='arcmin')\n",
    "kk.process(cat) \n",
    "theta_tc = kk.meanr\n",
    "xi_tc = kk.xi\n",
    "\n",
    "dat = np.array([theta_tc, xi_tc])\n",
    "dat = dat.T\n",
    "np.savetxt('./simulations_output/different_patches/treecorr_angular_correlation_gaussian_patch_3.txt', dat, delimiter = ' ')"
   ]
  },
  {
   "cell_type": "markdown",
   "metadata": {},
   "source": [
    "### Patch 4"
   ]
  },
  {
   "cell_type": "code",
   "execution_count": 23,
   "metadata": {},
   "outputs": [],
   "source": [
    "density_fluctuations = hp.read_cl('./simulations_output/different_patches/density_fluctuations_gaussian_patch_4.fits')\n",
    "\n",
    "density_fluctuations_RA = density_fluctuations[0,:]\n",
    "density_fluctuations_dec = density_fluctuations[1,:]\n",
    "density_fluctuations_del_g = density_fluctuations[2,:]\n",
    "\n",
    "cat = treecorr.Catalog(ra=density_fluctuations_RA, dec=density_fluctuations_dec,\n",
    "                        ra_units='rad', dec_units='rad', k=density_fluctuations_del_g)\n",
    "\n",
    "kk = treecorr.KKCorrelation(min_sep=1, max_sep=300, nbins=20, sep_units='arcmin')\n",
    "kk.process(cat) \n",
    "theta_tc = kk.meanr\n",
    "xi_tc = kk.xi\n",
    "\n",
    "dat = np.array([theta_tc, xi_tc])\n",
    "dat = dat.T\n",
    "np.savetxt('./simulations_output/different_patches/treecorr_angular_correlation_gaussian_patch_4.txt', dat, delimiter = ' ')"
   ]
  },
  {
   "cell_type": "markdown",
   "metadata": {},
   "source": [
    "### Patch 5"
   ]
  },
  {
   "cell_type": "code",
   "execution_count": 24,
   "metadata": {},
   "outputs": [],
   "source": [
    "density_fluctuations = hp.read_cl('./simulations_output/different_patches/density_fluctuations_gaussian_patch_5.fits')\n",
    "\n",
    "density_fluctuations_RA = density_fluctuations[0,:]\n",
    "density_fluctuations_dec = density_fluctuations[1,:]\n",
    "density_fluctuations_del_g = density_fluctuations[2,:]\n",
    "\n",
    "cat = treecorr.Catalog(ra=density_fluctuations_RA, dec=density_fluctuations_dec,\n",
    "                        ra_units='rad', dec_units='rad', k=density_fluctuations_del_g)\n",
    "\n",
    "kk = treecorr.KKCorrelation(min_sep=1, max_sep=300, nbins=20, sep_units='arcmin')\n",
    "kk.process(cat) \n",
    "theta_tc = kk.meanr\n",
    "xi_tc = kk.xi\n",
    "\n",
    "dat = np.array([theta_tc, xi_tc])\n",
    "dat = dat.T\n",
    "np.savetxt('./simulations_output/different_patches/treecorr_angular_correlation_gaussian_patch_5.txt', dat, delimiter = ' ')"
   ]
  },
  {
   "cell_type": "markdown",
   "metadata": {},
   "source": [
    "### Patch 6"
   ]
  },
  {
   "cell_type": "code",
   "execution_count": 25,
   "metadata": {},
   "outputs": [],
   "source": [
    "density_fluctuations = hp.read_cl('./simulations_output/different_patches/density_fluctuations_gaussian_patch_6.fits')\n",
    "\n",
    "density_fluctuations_RA = density_fluctuations[0,:]\n",
    "density_fluctuations_dec = density_fluctuations[1,:]\n",
    "density_fluctuations_del_g = density_fluctuations[2,:]\n",
    "\n",
    "cat = treecorr.Catalog(ra=density_fluctuations_RA, dec=density_fluctuations_dec,\n",
    "                        ra_units='rad', dec_units='rad', k=density_fluctuations_del_g)\n",
    "\n",
    "kk = treecorr.KKCorrelation(min_sep=1, max_sep=300, nbins=20, sep_units='arcmin')\n",
    "kk.process(cat) \n",
    "theta_tc = kk.meanr\n",
    "xi_tc = kk.xi\n",
    "\n",
    "dat = np.array([theta_tc, xi_tc])\n",
    "dat = dat.T\n",
    "np.savetxt('./simulations_output/different_patches/treecorr_angular_correlation_gaussian_patch_6.txt', dat, delimiter = ' ')"
   ]
  },
  {
   "cell_type": "code",
   "execution_count": 26,
   "metadata": {},
   "outputs": [],
   "source": [
    "def w_theta(theta):\n",
    "    x = np.cos(theta)\n",
    "    coeff = (2*l+1)/(4*np.pi)*cl\n",
    "    w = np.polynomial.legendre.legval(x, coeff)\n",
    "    return w     "
   ]
  },
  {
   "cell_type": "code",
   "execution_count": 30,
   "metadata": {},
   "outputs": [
    {
     "data": {
      "image/png": "[encoded data removed]",
      "text/plain": [
       "<Figure size 648x648 with 1 Axes>"
      ]
     },
     "metadata": {
      "needs_background": "light"
     },
     "output_type": "display_data"
    }
   ],
   "source": [
    "theta_treecorr1 = np.loadtxt('./simulations_output/different_patches/treecorr_angular_correlation_gaussian_patch_1.txt', usecols=(0)) # in arcmins\n",
    "xi_treecorr1 = np.loadtxt('./simulations_output/different_patches/treecorr_angular_correlation_gaussian_patch_1.txt', usecols=(1)) # xi aka w(theta)\n",
    "\n",
    "theta_treecorr2 = np.loadtxt('./simulations_output/different_patches/treecorr_angular_correlation_gaussian_patch_2.txt', usecols=(0)) # in arcmins\n",
    "xi_treecorr2 = np.loadtxt('./simulations_output/different_patches/treecorr_angular_correlation_gaussian_patch_2.txt', usecols=(1)) # xi aka w(theta)\n",
    "\n",
    "theta_treecorr3 = np.loadtxt('./simulations_output/different_patches/treecorr_angular_correlation_gaussian_patch_3.txt', usecols=(0)) # in arcmins\n",
    "xi_treecorr3 = np.loadtxt('./simulations_output/different_patches/treecorr_angular_correlation_gaussian_patch_3.txt', usecols=(1)) # xi aka w(theta)\n",
    "\n",
    "theta_treecorr4 = np.loadtxt('./simulations_output/different_patches/treecorr_angular_correlation_gaussian_patch_4.txt', usecols=(0)) # in arcmins\n",
    "xi_treecorr4 = np.loadtxt('./simulations_output/different_patches/treecorr_angular_correlation_gaussian_patch_4.txt', usecols=(1)) # xi aka w(theta)\n",
    "\n",
    "theta_treecorr5 = np.loadtxt('./simulations_output/different_patches/treecorr_angular_correlation_gaussian_patch_5.txt', usecols=(0)) # in arcmins\n",
    "xi_treecorr5 = np.loadtxt('./simulations_output/different_patches/treecorr_angular_correlation_gaussian_patch_5.txt', usecols=(1)) # xi aka w(theta)\n",
    "\n",
    "theta_treecorr6 = np.loadtxt('./simulations_output/different_patches/treecorr_angular_correlation_gaussian_patch_6.txt', usecols=(0)) # in arcmins\n",
    "xi_treecorr6 = np.loadtxt('./simulations_output/different_patches/treecorr_angular_correlation_gaussian_patch_6.txt', usecols=(1)) # xi aka w(theta)\n",
    "\n",
    "theta_theoretical = (theta_treecorr1+theta_treecorr2+theta_treecorr3+\n",
    "                     theta_treecorr4+theta_treecorr5+theta_treecorr6) / 6\n",
    "\n",
    "plt.figure(figsize=(9,9))\n",
    "plt.scatter(theta_treecorr1,xi_treecorr1, c='b', marker=10, label='treecorr1')\n",
    "plt.scatter(theta_treecorr2,xi_treecorr2, c='g', marker=9, label='treecorr2')\n",
    "plt.scatter(theta_treecorr3,xi_treecorr3, c='y', marker=8, label='treecorr3')\n",
    "plt.scatter(theta_treecorr4,xi_treecorr4, c='k', marker=7, label='treecorr4')\n",
    "plt.scatter(theta_treecorr5,xi_treecorr5, c='m', marker=10, label='treecorr5')\n",
    "plt.scatter(theta_treecorr6,xi_treecorr6, c='c', marker=9, label='treecorr6')\n",
    "plt.plot(theta_theoretical, w_theta(theta_theoretical/60*np.pi/180), c='r', label='theoretical w(theta)')\n",
    "plt.xlim(1,300)\n",
    "plt.ylim(1e-5, 1)\n",
    "plt.xscale('log')\n",
    "plt.yscale('log')\n",
    "plt.xlabel('Angle, theta (arcmins)', fontsize=14)\n",
    "plt.ylabel('Angular Correlation, w(theta)', fontsize=14)\n",
    "plt.title('Angular Correlation of Gaussian density fluctuations (6 patches each 1000 sq. degrees)')\n",
    "plt.legend(loc='best', fontsize=13)\n",
    "plt.savefig('./simulations_output/plot_output/treecorr_and_theoretical_angular_correlation_guassian_different_patches.pdf')\n",
    "\n",
    "# We can see the (cosmic variance) in the large scales i.e. small l --> more uncertainty (see Dodelson)"
   ]
  },
  {
   "cell_type": "code",
   "execution_count": null,
   "metadata": {},
   "outputs": [],
   "source": []
  }
 ],
 "metadata": {
  "kernelspec": {
   "display_name": "Python 3",
   "language": "python",
   "name": "python3"
  },
  "language_info": {
   "codemirror_mode": {
    "name": "ipython",
    "version": 3
   },
   "file_extension": ".py",
   "mimetype": "text/x-python",
   "name": "python",
   "nbconvert_exporter": "python",
   "pygments_lexer": "ipython3",
   "version": "3.6.8"
  }
 },
 "nbformat": 4,
 "nbformat_minor": 2
}
