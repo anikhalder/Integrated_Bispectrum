{
 "cells": [
  {
   "cell_type": "code",
   "execution_count": 23,
   "metadata": {},
   "outputs": [],
   "source": [
    "import skinematics as skin\n",
    "import numpy as np\n",
    "import treecorr\n",
    "\n",
    "#import random"
   ]
  },
  {
   "cell_type": "code",
   "execution_count": 2,
   "metadata": {},
   "outputs": [],
   "source": [
    "def spherical_to_cartesian(P_sph, sph_units):\n",
    "    # r , theta, phi \n",
    "    r = P_sph[0]\n",
    "    theta = 0\n",
    "    phi = 0\n",
    "    if (sph_units == 'deg'):\n",
    "        theta = np.deg2rad(P_sph[1])\n",
    "        phi = np.deg2rad(P_sph[2])\n",
    "    elif (sph_units == 'rad'):\n",
    "        theta = P_sph[1]\n",
    "        phi = P_sph[2]  \n",
    "    else:\n",
    "        raise Exception('units should be either \\'deg\\' or \\'rad\\'')\n",
    "        \n",
    "    return np.array([r*np.sin(theta)*np.cos(phi),r*np.sin(theta)*np.sin(phi),r*np.cos(theta)])"
   ]
  },
  {
   "cell_type": "code",
   "execution_count": 3,
   "metadata": {},
   "outputs": [],
   "source": [
    "def cartesian_to_spherical(P_cart, sph_units):\n",
    "    # x, y, z ---> r, theta, phi \n",
    "    x = P_cart[0]\n",
    "    y = P_cart[1]\n",
    "    z = P_cart[2]\n",
    "    \n",
    "    r = np.sqrt(x*x+y*y+z*z)\n",
    "    \n",
    "    theta = np.arctan2(np.sqrt(x*x+y*y), z)\n",
    "        \n",
    "    phi = np.arctan2(y,x)\n",
    "    if phi < 0:\n",
    "        phi = 2*np.pi + phi\n",
    "    \n",
    "    if (sph_units == 'deg'):\n",
    "        return np.array([r, theta*180/np.pi, phi*180/np.pi])\n",
    "    elif (sph_units == 'rad'):\n",
    "        return np.array([r, theta, phi])\n",
    "    else:\n",
    "        raise Exception('units should be either \\'deg\\' or \\'rad\\'')"
   ]
  },
  {
   "cell_type": "code",
   "execution_count": 4,
   "metadata": {},
   "outputs": [],
   "source": [
    "def rotate_vector_to_NP(P_sph, P_sph_units):\n",
    "    theta = 0\n",
    "    phi = 0\n",
    "    if (P_sph_units == 'deg'):\n",
    "        theta = P_sph[1]\n",
    "        phi = P_sph[2]         \n",
    "    elif (P_sph_units == 'rad'):\n",
    "        theta = np.rad2deg(P_sph[1])\n",
    "        phi = np.rad2deg(P_sph[2])\n",
    "    else:\n",
    "        raise Exception('units should be either \\'deg\\' or \\'rad\\'')\n",
    "        \n",
    "    P_cart = spherical_to_cartesian(P_sph, P_sph_units)\n",
    "\n",
    "    # First rotate about z axis (counter azimuthally) so as to make the point lie in the xz plane i.e. y = 0\n",
    "    Rot_z = skin.rotmat.R(axis='z', angle=-phi) # cskin.rotmar.R only accepts angle in degrees!   \n",
    "    P_cart_xz = np.matmul(Rot_z, P_cart)\n",
    "    \n",
    "    # Then rotate about y axis (counter polar-wise) to make the point lie at the NP i.e. x = 0, y = 0\n",
    "    Rot_y = skin.rotmat.R(axis='y', angle=-theta) # cskin.rotmar.R only accepts angle in degrees!\n",
    "    P_cart_NP = np.matmul(Rot_y, P_cart_xz) \n",
    "       \n",
    "    return P_cart_NP"
   ]
  },
  {
   "cell_type": "code",
   "execution_count": 31,
   "metadata": {},
   "outputs": [],
   "source": [
    "def rotate_vector_to_NP_matrices(P_sph, P_sph_units):\n",
    "    theta = 0\n",
    "    phi = 0\n",
    "    if (P_sph_units == 'deg'):\n",
    "        theta = P_sph[1]\n",
    "        phi = P_sph[2]         \n",
    "    elif (P_sph_units == 'rad'):\n",
    "        theta = np.rad2deg(P_sph[1])\n",
    "        phi = np.rad2deg(P_sph[2])\n",
    "    else:\n",
    "        raise Exception('units should be either \\'deg\\' or \\'rad\\'')\n",
    "        \n",
    "    # First rotate about z axis (counter azimuthally) so as to make the point lie in the xz plane i.e. y = 0\n",
    "    Rot_z = skin.rotmat.R(axis='z', angle=-phi) # cskin.rotmar.R only accepts angle in degrees!   \n",
    "    \n",
    "    # Then rotate about y axis (counter polar-wise) to make the point lie at the NP i.e. x = 0, y = 0\n",
    "    Rot_y = skin.rotmat.R(axis='y', angle=-theta) # cskin.rotmar.R only accepts angle in degrees!\n",
    "       \n",
    "    return np.array([Rot_z, Rot_y]) # 1st rotation matrix and then 2nd rotation matrix"
   ]
  },
  {
   "cell_type": "code",
   "execution_count": 32,
   "metadata": {},
   "outputs": [],
   "source": [
    "P = np.array([2, 90, 45])"
   ]
  },
  {
   "cell_type": "code",
   "execution_count": 33,
   "metadata": {},
   "outputs": [
    {
     "data": {
      "text/plain": [
       "array([1.41421356e+00, 1.41421356e+00, 1.22464680e-16])"
      ]
     },
     "execution_count": 33,
     "metadata": {},
     "output_type": "execute_result"
    }
   ],
   "source": [
    "spherical_to_cartesian(P, 'deg')"
   ]
  },
  {
   "cell_type": "code",
   "execution_count": 34,
   "metadata": {},
   "outputs": [
    {
     "data": {
      "text/plain": [
       "array([2., 0., 0.])"
      ]
     },
     "execution_count": 34,
     "metadata": {},
     "output_type": "execute_result"
    }
   ],
   "source": [
    "cartesian_to_spherical(rotate_vector_to_NP(P, 'deg'), 'deg')"
   ]
  },
  {
   "cell_type": "code",
   "execution_count": 35,
   "metadata": {},
   "outputs": [],
   "source": [
    "R_1, R_2 = rotate_vector_to_NP_matrices(P, 'deg')"
   ]
  },
  {
   "cell_type": "code",
   "execution_count": 36,
   "metadata": {},
   "outputs": [
    {
     "data": {
      "text/plain": [
       "array([[ 0.70710678,  0.70710678,  0.        ],\n",
       "       [-0.70710678,  0.70710678,  0.        ],\n",
       "       [ 0.        ,  0.        ,  1.        ]])"
      ]
     },
     "execution_count": 36,
     "metadata": {},
     "output_type": "execute_result"
    }
   ],
   "source": [
    "R_1"
   ]
  },
  {
   "cell_type": "code",
   "execution_count": 37,
   "metadata": {},
   "outputs": [
    {
     "data": {
      "text/plain": [
       "array([[ 6.123234e-17,  0.000000e+00, -1.000000e+00],\n",
       "       [ 0.000000e+00,  1.000000e+00,  0.000000e+00],\n",
       "       [ 1.000000e+00,  0.000000e+00,  6.123234e-17]])"
      ]
     },
     "execution_count": 37,
     "metadata": {},
     "output_type": "execute_result"
    }
   ],
   "source": [
    "R_2"
   ]
  },
  {
   "cell_type": "code",
   "execution_count": 40,
   "metadata": {},
   "outputs": [
    {
     "data": {
      "text/plain": [
       "array([ 2., 90., 45.])"
      ]
     },
     "execution_count": 40,
     "metadata": {},
     "output_type": "execute_result"
    }
   ],
   "source": [
    "cartesian_to_spherical(np.matmul(R_1.T, np.matmul(R_2.T, rotate_vector_to_NP(P, 'deg'))), 'deg')"
   ]
  },
  {
   "cell_type": "code",
   "execution_count": 12,
   "metadata": {},
   "outputs": [],
   "source": [
    "def draw_pt_on_circle(omega_1, theta_scale, patch_radius):\n",
    "    R_1, R_2 = rotate_vector_to_NP_matrices(omega_1, 'rad')\n",
    "    \n",
    "    theta_2_prime = theta_scale\n",
    "    \n",
    "    do_iteration = True\n",
    "    \n",
    "    while(do_iteration):\n",
    "        phi_2_prime = np.random.uniform(0, 2*np.pi, 1)\n",
    "        omega_2_prime_cart = spherical_to_cartesian([theta_2_prime, phi_2_prime], 'rad')\n",
    "        omega_2 = np.matmul(R_1.T, np.matmul(R_2.T, omega_2_prime_cart))\n",
    "    \n",
    "        if (omega_2[0] < patch_radius):\n",
    "            do_iteration = False\n",
    "            \n",
    "    return omega_2"
   ]
  },
  {
   "cell_type": "code",
   "execution_count": 15,
   "metadata": {},
   "outputs": [
    {
     "data": {
      "text/plain": [
       "array([4.71835185])"
      ]
     },
     "execution_count": 15,
     "metadata": {},
     "output_type": "execute_result"
    }
   ],
   "source": [
    "np.random.uniform(0, 2*np.pi, 1)"
   ]
  },
  {
   "cell_type": "code",
   "execution_count": 25,
   "metadata": {},
   "outputs": [],
   "source": [
    "kk = treecorr.KKCorrelation(min_sep=1, max_sep=400, nbins=30, sep_units='arcmin')\n",
    "theta_tc = kk.meanr"
   ]
  },
  {
   "cell_type": "code",
   "execution_count": 26,
   "metadata": {},
   "outputs": [
    {
     "data": {
      "text/plain": [
       "array([0., 0., 0., 0., 0., 0., 0., 0., 0., 0., 0., 0., 0., 0., 0., 0., 0.,\n",
       "       0., 0., 0., 0., 0., 0., 0., 0., 0., 0., 0., 0., 0.])"
      ]
     },
     "execution_count": 26,
     "metadata": {},
     "output_type": "execute_result"
    }
   ],
   "source": [
    "theta_tc"
   ]
  },
  {
   "cell_type": "code",
   "execution_count": 27,
   "metadata": {},
   "outputs": [],
   "source": [
    "kk = treecorr.KKCorrelation(min_sep=1, max_sep=400, nbins=30, sep_units='arcmin')\n",
    "theta_scale_log_vec = kk.logr # in log arcmins"
   ]
  },
  {
   "cell_type": "code",
   "execution_count": 43,
   "metadata": {},
   "outputs": [
    {
     "data": {
      "text/plain": [
       "array([0.00032144, 0.00039249, 0.00047925, 0.00058519, 0.00071455,\n",
       "       0.00087251, 0.00106538, 0.00130089, 0.00158846, 0.0019396 ,\n",
       "       0.00236836, 0.00289189, 0.00353116, 0.00431175, 0.00526488,\n",
       "       0.00642871, 0.00784981, 0.00958505, 0.01170388, 0.01429108,\n",
       "       0.0174502 , 0.02130766, 0.02601783, 0.03176921, 0.03879196,\n",
       "       0.04736713, 0.05783789, 0.07062326, 0.08623491, 0.10529759])"
      ]
     },
     "execution_count": 43,
     "metadata": {},
     "output_type": "execute_result"
    }
   ],
   "source": [
    "np.exp(theta_scale_log_vec)*np.pi/180/60"
   ]
  },
  {
   "cell_type": "code",
   "execution_count": 29,
   "metadata": {},
   "outputs": [],
   "source": [
    "kk = treecorr.KKCorrelation(min_sep=1, max_sep=400, nbins=30, sep_units='arcmin')\n",
    "theta_tc = kk.meanr"
   ]
  },
  {
   "cell_type": "code",
   "execution_count": null,
   "metadata": {},
   "outputs": [],
   "source": []
  }
 ],
 "metadata": {
  "kernelspec": {
   "display_name": "Python 3",
   "language": "python",
   "name": "python3"
  },
  "language_info": {
   "codemirror_mode": {
    "name": "ipython",
    "version": 3
   },
   "file_extension": ".py",
   "mimetype": "text/x-python",
   "name": "python",
   "nbconvert_exporter": "python",
   "pygments_lexer": "ipython3",
   "version": "3.6.8"
  }
 },
 "nbformat": 4,
 "nbformat_minor": 2
}
