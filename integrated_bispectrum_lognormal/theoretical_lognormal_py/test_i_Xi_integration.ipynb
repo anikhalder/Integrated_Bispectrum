{
 "cells": [
  {
   "cell_type": "code",
   "execution_count": 1,
   "metadata": {},
   "outputs": [],
   "source": [
    "import time\n",
    "#start_program = time.time()\n",
    "\n",
    "import numpy as np\n",
    "import matplotlib.pyplot as plt\n",
    "from scipy import integrate \n",
    "from scipy import special\n",
    "from scipy import interpolate\n",
    "import vegas\n",
    "import treecorr\n",
    "#import healpy as hp\n",
    "#from astropy.io import fits\n",
    "#from astropy.table import Table, Column\n",
    "#import random\n",
    "import skinematics as skin"
   ]
  },
  {
   "cell_type": "code",
   "execution_count": 2,
   "metadata": {},
   "outputs": [],
   "source": [
    "### Parameters to change according to patch size and count\n",
    "# Make 500 patches (discs) of 10 sq. degree pixels\n",
    "sq_degrees = 10\n",
    "patch_radius = 0.031 #rad\n",
    "patch_count = 500\n",
    "maps_count = 10\n",
    "\n",
    "log_shift = 1.0"
   ]
  },
  {
   "cell_type": "code",
   "execution_count": 3,
   "metadata": {},
   "outputs": [],
   "source": [
    "# as l=0 and l=1 (and corresponding cl values of 0) are missing due to requirement of flask, we append them\n",
    "# we also take only till l=8192 (before index 8191) for flask simulation\n",
    "# therefore, we finally take l values from l=0 to l=8192 (and corresponding cl)\n",
    "\n",
    "def read_cl():\n",
    "    l = np.loadtxt('../data/Cell_data-f1z1f1z1.dat', usecols=(0))\n",
    "    l = np.append(np.array([0.0,1.0]), l[:8191])\n",
    "    cl = np.loadtxt('../data/Cell_data-f1z1f1z1.dat', usecols=(1))\n",
    "    cl = np.append(np.array([0.0,0.0]), cl[:8191])\n",
    "    return l, cl\n",
    "\n",
    "l , cl = read_cl()"
   ]
  },
  {
   "cell_type": "code",
   "execution_count": 4,
   "metadata": {},
   "outputs": [],
   "source": [
    "# Theoretical angular correlation function (using formula with Legendre polynomials)\n",
    "def w_cos_theta(cos_theta):\n",
    "    x = cos_theta\n",
    "    coeff = (2*l+1)/(4*np.pi)*cl\n",
    "    w = np.polynomial.legendre.legval(x, coeff)\n",
    "    return w     \n",
    "\n",
    "def cos_angular_length(omega_1, omega_2):\n",
    "    \n",
    "    \"\"\"\n",
    "    if (np.cos(omega_1[0])*np.cos(omega_2[0]) +  np.sin(omega_1[0])*np.sin(omega_2[0])*np.cos(omega_1[1]-omega_2[1]) > 1):\n",
    "        return np.arccos(1)\n",
    "    elif (np.cos(omega_1[0])*np.cos(omega_2[0]) +  np.sin(omega_1[0])*np.sin(omega_2[0])*np.cos(omega_1[1]-omega_2[1]) < -1):\n",
    "        return np.arccos(-1)\n",
    "    else:\n",
    "        return np.arccos( np.cos(omega_1[0])*np.cos(omega_2[0]) +  np.sin(omega_1[0])*np.sin(omega_2[0])*np.cos(omega_1[1]-omega_2[1]) )\n",
    "    \"\"\"\n",
    "\n",
    "    return np.cos(omega_1[0])*np.cos(omega_2[0]) +  np.sin(omega_1[0])*np.sin(omega_2[0])*np.cos(omega_1[1]-omega_2[1])\n",
    "\n",
    "def window_circular_patch(omega, omega_patch, patch_radius):\n",
    "    if (np.arccos(cos_angular_length(omega, omega_patch)) <= patch_radius):\n",
    "        return 1\n",
    "    else:\n",
    "        return 0\n",
    "\n",
    "def bin_angular_scale_interval(omega_1, omega_2, theta_scale_interval):\n",
    "    # theta_scale_interval is a list containing the lower and upper values of the bin (used in TreeCorr) in regular distance space in radians\n",
    "    if (np.arccos(cos_angular_length(omega_1, omega_2)) >= theta_scale_interval[0] and np.arccos(cos_angular_length(omega_1, omega_2)) < theta_scale_interval[1]):\n",
    "        return 1/(theta_scale_interval[1]-theta_scale_interval[0])\n",
    "    else:\n",
    "        return 0\n",
    "\n",
    "theta_arr = np.linspace(0,2*patch_radius+0.001,10000)\n",
    "cos_theta_arr = np.cos(theta_arr)\n",
    "w_cos_theta_arr = w_cos_theta(cos_theta_arr)\n",
    "\n",
    "w_cos_theta_interp = interpolate.interp1d(cos_theta_arr, w_cos_theta_arr)\n",
    "    \n",
    "def lognormal_3pt_corr(omega_1, omega_2, omega_3, log_shift):\n",
    "    # angular 3pt correlartion function for a lognormal density field (according to Hilbert et al.)\n",
    "\n",
    "    #w_12 = w_cos_theta(cos_angular_length(omega_1, omega_2))\n",
    "    #w_13 = w_cos_theta(cos_angular_length(omega_1, omega_3))\n",
    "    #w_23 = w_cos_theta(cos_angular_length(omega_2, omega_3))\n",
    "\n",
    "    w_12 = w_cos_theta_interp(cos_angular_length(omega_1, omega_2))\n",
    "    w_13 = w_cos_theta_interp(cos_angular_length(omega_1, omega_3))\n",
    "    w_23 = w_cos_theta_interp(cos_angular_length(omega_2, omega_3))\n",
    "\n",
    "    return (log_shift**-1)*(w_12*w_13+w_12*w_23+w_13*w_23)+(log_shift**-3)*(w_12*w_13*w_23)\n",
    "\n",
    "def area_patch(patch_radius): \n",
    "    # patch is basically a spherical cap centered around the North Pole one a sphere of unit radius\n",
    "    r = 1\n",
    "    return 2*np.pi*r*r*(1-np.cos(patch_radius)) # from Wikipedia"
   ]
  },
  {
   "cell_type": "code",
   "execution_count": 5,
   "metadata": {},
   "outputs": [
    {
     "data": {
      "text/plain": [
       "'\\n#########################\\n### Scipy integration ###\\n#########################\\n\\n#### DOES NOT CONVERGE ####\\n\\ndef area_patch_scipy(patch_radius):\\n    # patch is basically a spherical cap centered around the North Pole one a sphere of unit radius\\n    def integrand(theta, phi):\\n        return np.sin(theta)\\n\\n    area = integrate.nquad(integrand, [[0, patch_radius], [0, 2*np.pi]])[0]\\n\\n    return area\\n\\ndef integrated_lognormal_3pt_corr(theta_scale_interval, patch_radius, log_shift, patch_area):\\n\\n    def integrand(theta_1, phi_1, theta_2, phi_2, theta_3, phi_3):\\n        return np.sin(theta_1)*np.sin(theta_2)*np.sin(theta_3)*lognormal_3pt_corr([theta_1, phi_1], [theta_2, phi_2], [theta_3, phi_3], log_shift)*bin_angular_scale_interval([theta_1, phi_1], [theta_3, phi_3], theta_scale_interval)\\n\\n    i_Xi = integrate.nquad(integrand, [[0, patch_radius], [0, 2*np.pi], [0, patch_radius], [0, 2*np.pi], [0, patch_radius], [0, 2*np.pi]])\\n\\n    return i_Xi[0] / (patch_area**2)\\n'"
      ]
     },
     "execution_count": 5,
     "metadata": {},
     "output_type": "execute_result"
    }
   ],
   "source": [
    "\"\"\"\n",
    "#########################\n",
    "### Scipy integration ###\n",
    "#########################\n",
    "\n",
    "#### DOES NOT CONVERGE ####\n",
    "\n",
    "def area_patch_scipy(patch_radius):\n",
    "    # patch is basically a spherical cap centered around the North Pole one a sphere of unit radius\n",
    "    def integrand(theta, phi):\n",
    "        return np.sin(theta)\n",
    "\n",
    "    area = integrate.nquad(integrand, [[0, patch_radius], [0, 2*np.pi]])[0]\n",
    "\n",
    "    return area\n",
    "\n",
    "def integrated_lognormal_3pt_corr(theta_scale_interval, patch_radius, log_shift, patch_area):\n",
    "\n",
    "    def integrand(theta_1, phi_1, theta_2, phi_2, theta_3, phi_3):\n",
    "        return np.sin(theta_1)*np.sin(theta_2)*np.sin(theta_3)*lognormal_3pt_corr([theta_1, phi_1], [theta_2, phi_2], [theta_3, phi_3], log_shift)*bin_angular_scale_interval([theta_1, phi_1], [theta_3, phi_3], theta_scale_interval)\n",
    "\n",
    "    i_Xi = integrate.nquad(integrand, [[0, patch_radius], [0, 2*np.pi], [0, patch_radius], [0, 2*np.pi], [0, patch_radius], [0, 2*np.pi]])\n",
    "\n",
    "    return i_Xi[0] / (patch_area**2)\n",
    "\"\"\""
   ]
  },
  {
   "cell_type": "code",
   "execution_count": 6,
   "metadata": {},
   "outputs": [
    {
     "data": {
      "text/plain": [
       "\"\\n#########################\\n### Vegas integration ###\\n#########################\\n\\ndef area_patch_vegas(patch_radius):\\n    # patch is basically a spherical cap centered around the North Pole one a sphere of unit radius\\n    def integrand(x): # x[0] stands for theta, x[1] stands for phi\\n        return np.sin(x[0]) \\n\\n    integ = vegas.Integrator([[0, patch_radius], [0, 2*np.pi]])\\n    area = integ(integrand, nitn=20, neval=5000)\\n    #print(result.summary())\\n    #print('result = %s    Q = %.2f' % (result, result.Q))\\n    \\n    return area.mean  # return the weighted mean over the total number of iterations\\n\\ndef integrated_lognormal_3pt_corr_vegas(theta_scale_interval, patch_radius, log_shift, patch_area):\\n\\n    def integrand(x):\\n        theta_1 = x[0]\\n        phi_1 = x[1]\\n        theta_2 = x[2]\\n        phi_2 = x[3]\\n        theta_3 = x[4]\\n        phi_3 = x[5]\\n    \\n        return np.sin(theta_1)*np.sin(theta_2)*np.sin(theta_3)*lognormal_3pt_corr([theta_1, phi_1], [theta_2, phi_2], [theta_3, phi_3], log_shift)*bin_angular_scale_interval([theta_1, phi_1], [theta_3, phi_3], theta_scale_interval)\\n\\n    integrator = vegas.Integrator([[0, patch_radius], [0, 2*np.pi], [0, patch_radius], [0, 2*np.pi], [0, patch_radius], [0, 2*np.pi]])\\n\\n    i_Xi = integrator(integrand, nitn=20, neval=10000)\\n\\n    return i_Xi.mean / (patch_area**2) # return the weighted mean over the total number of iterations divided by the patch_area squared\\n\""
      ]
     },
     "execution_count": 6,
     "metadata": {},
     "output_type": "execute_result"
    }
   ],
   "source": [
    "\"\"\"\n",
    "#########################\n",
    "### Vegas integration ###\n",
    "#########################\n",
    "\n",
    "def area_patch_vegas(patch_radius):\n",
    "    # patch is basically a spherical cap centered around the North Pole one a sphere of unit radius\n",
    "    def integrand(x): # x[0] stands for theta, x[1] stands for phi\n",
    "        return np.sin(x[0]) \n",
    "\n",
    "    integ = vegas.Integrator([[0, patch_radius], [0, 2*np.pi]])\n",
    "    area = integ(integrand, nitn=20, neval=5000)\n",
    "    #print(result.summary())\n",
    "    #print('result = %s    Q = %.2f' % (result, result.Q))\n",
    "    \n",
    "    return area.mean  # return the weighted mean over the total number of iterations\n",
    "\n",
    "def integrated_lognormal_3pt_corr_vegas(theta_scale_interval, patch_radius, log_shift, patch_area):\n",
    "\n",
    "    def integrand(x):\n",
    "        theta_1 = x[0]\n",
    "        phi_1 = x[1]\n",
    "        theta_2 = x[2]\n",
    "        phi_2 = x[3]\n",
    "        theta_3 = x[4]\n",
    "        phi_3 = x[5]\n",
    "    \n",
    "        return np.sin(theta_1)*np.sin(theta_2)*np.sin(theta_3)*lognormal_3pt_corr([theta_1, phi_1], [theta_2, phi_2], [theta_3, phi_3], log_shift)*bin_angular_scale_interval([theta_1, phi_1], [theta_3, phi_3], theta_scale_interval)\n",
    "\n",
    "    integrator = vegas.Integrator([[0, patch_radius], [0, 2*np.pi], [0, patch_radius], [0, 2*np.pi], [0, patch_radius], [0, 2*np.pi]])\n",
    "\n",
    "    i_Xi = integrator(integrand, nitn=20, neval=10000)\n",
    "\n",
    "    return i_Xi.mean / (patch_area**2) # return the weighted mean over the total number of iterations divided by the patch_area squared\n",
    "\"\"\""
   ]
  },
  {
   "cell_type": "code",
   "execution_count": 7,
   "metadata": {},
   "outputs": [],
   "source": [
    "##########################\n",
    "### Manual integration ###\n",
    "##########################\n",
    "\n",
    "def spherical_to_cartesian(P_sph, sph_units):\n",
    "    # r , theta, phi \n",
    "    r = P_sph[0]\n",
    "    theta = 0\n",
    "    phi = 0\n",
    "    if (sph_units == 'deg'):\n",
    "        theta = np.deg2rad(P_sph[1])\n",
    "        phi = np.deg2rad(P_sph[2])\n",
    "    elif (sph_units == 'rad'):\n",
    "        theta = P_sph[1]\n",
    "        phi = P_sph[2]  \n",
    "    else:\n",
    "        raise Exception('units should be either \\'deg\\' or \\'rad\\'')\n",
    "   \n",
    "    return np.array([r*np.sin(theta)*np.cos(phi),r*np.sin(theta)*np.sin(phi),r*np.cos(theta)])\n",
    "\n",
    "def cartesian_to_spherical(P_cart, sph_units):\n",
    "    # x, y, z ---> r, theta, phi \n",
    "    x = P_cart[0]\n",
    "    y = P_cart[1]\n",
    "    z = P_cart[2]\n",
    "    \n",
    "    r = np.sqrt(x*x+y*y+z*z)\n",
    "    \n",
    "    theta = np.arctan2(np.sqrt(x*x+y*y), z)\n",
    "        \n",
    "    phi = np.arctan2(y,x)\n",
    "    if phi < 0:\n",
    "        phi = 2*np.pi + phi\n",
    "    \n",
    "    if (sph_units == 'deg'):\n",
    "        return np.array([r, theta*180/np.pi, phi*180/np.pi])\n",
    "    elif (sph_units == 'rad'):\n",
    "        return np.array([r, theta, phi])\n",
    "    else:\n",
    "        raise Exception('units should be either \\'deg\\' or \\'rad\\'')\n",
    "\n",
    "def rotate_vector_to_NP_matrices(P_sph, P_sph_units):\n",
    "    # retrieve matrices to rotate a vector to the North Pole\n",
    "    theta = 0\n",
    "    phi = 0\n",
    "    if (P_sph_units == 'deg'):\n",
    "        theta = P_sph[1]\n",
    "        phi = P_sph[2]         \n",
    "    elif (P_sph_units == 'rad'):\n",
    "        theta = np.rad2deg(P_sph[1])\n",
    "        phi = np.rad2deg(P_sph[2])\n",
    "    else:\n",
    "        raise Exception('units should be either \\'deg\\' or \\'rad\\'')\n",
    "        \n",
    "    # First rotate about z axis (counter azimuthally) so as to make the point lie in the xz plane i.e. y = 0\n",
    "    Rot_z = skin.rotmat.R(axis='z', angle=-phi) # skin.rotmar.R only accepts angle in degrees!   \n",
    "    \n",
    "    # Then rotate about y axis (counter polar-wise) to make the point lie at the NP i.e. x = 0, y = 0\n",
    "    Rot_y = skin.rotmat.R(axis='y', angle=-theta) # skin.rotmar.R only accepts angle in degrees!\n",
    "       \n",
    "    return np.array([Rot_z, Rot_y]) # 1st rotation matrix and then 2nd rotation matrix\n",
    "\n",
    "def draw_pt_within_patch(patch_radius):\n",
    "    theta = np.random.uniform(0, patch_radius, 1)[0]\n",
    "    phi =  np.random.uniform(0, 2*np.pi, 1)[0]\n",
    "    \n",
    "    return [theta, phi]\n",
    "\n",
    "def draw_pt_on_circle(omega_1, theta_scale, patch_radius):\n",
    "    R_1, R_2 = rotate_vector_to_NP_matrices([1, omega_1[0], omega_1[1]], 'rad')\n",
    "    \n",
    "    theta_2_prime = theta_scale # polar angle in the rotated frame\n",
    "    \n",
    "    \"\"\"\n",
    "    do_iteration = True\n",
    "    \n",
    "    omega_2_3d_sph = np.zeros(3)\n",
    "    while(do_iteration):\n",
    "        phi_2_prime = np.random.uniform(0, 2*np.pi, 1)[0]\n",
    "        omega_2_prime_cart = spherical_to_cartesian([1, theta_2_prime, phi_2_prime], 'rad')\n",
    "        omega_2_3d_sph = cartesian_to_spherical(np.matmul(R_1.T, np.matmul(R_2.T, omega_2_prime_cart)), 'rad')\n",
    "\n",
    "        if (omega_2_3d_sph[1] < patch_radius):\n",
    "            do_iteration = False\n",
    "            \n",
    "    omega_2 = [omega_2_3d_sph[1], omega_2_3d_sph[2]]\n",
    "    return omega_2\n",
    "    \"\"\"\n",
    "    \n",
    "    omega_2_3d_sph = np.zeros(3)\n",
    "    phi_2_prime = np.random.uniform(0, 2*np.pi, 1)[0]\n",
    "    omega_2_prime_cart = spherical_to_cartesian([1, theta_2_prime, phi_2_prime], 'rad')\n",
    "    omega_2_3d_sph = cartesian_to_spherical(np.matmul(R_1.T, np.matmul(R_2.T, omega_2_prime_cart)), 'rad')\n",
    "\n",
    "    if (omega_2_3d_sph[1] > patch_radius):\n",
    "        return [float('nan'), omega_2_3d_sph[2]]\n",
    "    else:\n",
    "        return [omega_2_3d_sph[1], omega_2_3d_sph[2]]\n",
    "\n",
    "def integrated_lognormal_3pt_corr_manual(theta_scale, patch_radius, log_shift, patch_area, N=10000):\n",
    "    f = 0\n",
    "    accepted_points = 0\n",
    "    for i in range(N):\n",
    "        theta_1, phi_1 = draw_pt_within_patch(patch_radius)\n",
    "        theta_2, phi_2 = draw_pt_within_patch(patch_radius)\n",
    "        theta_3, phi_3 = draw_pt_on_circle([theta_1, phi_1], theta_scale, patch_radius)\n",
    "\n",
    "        if (not np.isnan(theta_3)):\n",
    "            accepted_points += 1\n",
    "            f += np.sin(theta_1)*np.sin(theta_2)*np.sin(theta_3)*lognormal_3pt_corr([theta_1, phi_1], [theta_2, phi_2], [theta_3, phi_3], log_shift)\n",
    "\n",
    "    return f / accepted_points / (patch_area**2)"
   ]
  },
  {
   "cell_type": "code",
   "execution_count": 8,
   "metadata": {},
   "outputs": [
    {
     "name": "stdout",
     "output_type": "stream",
     "text": [
      "Angular length between t1 and t2 (in radians) =  -0.5028631789448581\n",
      "Angular length between t1 and tL (in radians)  =  0.999995500003375\n",
      "Angular length between t2 and tL (in radians)  =  -0.5048461045998576\n",
      "Angular length between t3 and tL (in radians)  =  0.9998798774049833\n",
      "Angular length between t4 and t6 (in radians)  =  0.9999895891257565\n",
      "Angular length between t5 and t6 (in radians)  =  0.9999895891257565\n",
      "Is t1 within the patch which is centered at tL and is of size 0.031 radians =  1\n",
      "Is t2 within the patch which is centered at tL and is of size 0.031 radians =  0\n",
      "Is t7 within the patch which is centered at tL and is of size 0.031 radians =  0\n",
      "Is t8 within the patch which is centered at tL and is of size 0.031 radians =  1\n",
      "Is t1 and tL at approximately 0.003 radians separation = 49999.99999999987\n",
      "Angular 2-pt correlation: w(theta between t1 and t2) =  1.1625634668957718e-06\n",
      "Angular 2-pt correlation: w(theta between t4 and t6) =  0.046451045632497634\n",
      "Angular 2-pt correlation: w(theta between t5 and t6) =  0.046451045632497634\n",
      "\n",
      " #### Manual integration ###\n",
      "Area of the patch =  0.0030188287706122362\n",
      "Integrated lognormal 3-pt function at angular scale 0.003 radians =  0.0008249942888217112\n"
     ]
    }
   ],
   "source": [
    "# Individual function tests\n",
    "\n",
    "#t1 = [0.031, 3.2]\n",
    "t1 = [0.003, 0]\n",
    "t2 = [2.1, 0.7]\n",
    "t3 = [0.0155, 3.141592653589793]\n",
    "t4 = [0.010936910628127367, 3.141592653589793]\n",
    "t5 = [0.020063089371872633, 3.141592653589793]\n",
    "t6 = [0.0155, 3.141592653589793]\n",
    "t7 = [0.0312, 0.4]\n",
    "t8 = [0.0309, 0.4]\n",
    "tL = [0.0, 0.0] # location of patch -> at the north pole\n",
    "\n",
    "t_scale = 0.003 # test scale we are interested (in radians)\n",
    "\n",
    "print(\"Angular length between t1 and t2 (in radians) = \", cos_angular_length(t1, t2))\n",
    "print(\"Angular length between t1 and tL (in radians)  = \", cos_angular_length(t1, tL))\n",
    "print(\"Angular length between t2 and tL (in radians)  = \", cos_angular_length(t2, tL))\n",
    "print(\"Angular length between t3 and tL (in radians)  = \", cos_angular_length(t3, tL))\n",
    "print(\"Angular length between t4 and t6 (in radians)  = \", cos_angular_length(t4, t6))\n",
    "print(\"Angular length between t5 and t6 (in radians)  = \", cos_angular_length(t5, t6))\n",
    "\n",
    "print(\"Is t1 within the patch which is centered at tL and is of size \"+str(patch_radius)+\" radians = \", window_circular_patch(t1, tL, patch_radius))\n",
    "print(\"Is t2 within the patch which is centered at tL and is of size \"+str(patch_radius)+\" radians = \", window_circular_patch(t2, tL, patch_radius))\n",
    "print(\"Is t7 within the patch which is centered at tL and is of size \"+str(patch_radius)+\" radians = \", window_circular_patch(t7, tL, patch_radius))\n",
    "print(\"Is t8 within the patch which is centered at tL and is of size \"+str(patch_radius)+\" radians = \", window_circular_patch(t8, tL, patch_radius))\n",
    "\n",
    "print(\"Is t1 and tL at approximately \"+str(t_scale)+\" radians separation =\", bin_angular_scale_interval(t1, tL, [t_scale - 0.00001, t_scale + 0.00001]))\n",
    "\n",
    "print(\"Angular 2-pt correlation: w(theta between t1 and t2) = \", w_cos_theta(cos_angular_length(t1, t2)))\n",
    "print(\"Angular 2-pt correlation: w(theta between t4 and t6) = \", w_cos_theta(cos_angular_length(t4, t6)))\n",
    "print(\"Angular 2-pt correlation: w(theta between t5 and t6) = \", w_cos_theta(cos_angular_length(t5, t6)))\n",
    "\n",
    "print(\"\\n #### Manual integration ###\")\n",
    "\n",
    "A_L = area_patch(patch_radius)\n",
    "print(\"Area of the patch = \", A_L)\n",
    "print(\"Integrated lognormal 3-pt function at angular scale \"+str(t_scale)+\" radians = \", integrated_lognormal_3pt_corr_manual(t_scale, patch_radius, log_shift, A_L))"
   ]
  },
  {
   "cell_type": "code",
   "execution_count": 9,
   "metadata": {},
   "outputs": [
    {
     "name": "stdout",
     "output_type": "stream",
     "text": [
      "###############################################################################\n",
      "Iteration # 1\n",
      "Theta (in arcmins):  1.1050137103527575\n",
      "i_Xi:  0.0060093647777920076\n",
      "Time taken for execution of iteration (seconds):  1.853191614151001\n",
      "###############################################################################\n",
      "Iteration # 2\n",
      "Theta (in arcmins):  1.3492828476735632\n",
      "i_Xi:  0.004648896480129605\n",
      "Time taken for execution of iteration (seconds):  1.8455238342285156\n",
      "###############################################################################\n",
      "Iteration # 3\n",
      "Theta (in arcmins):  1.6475489724420656\n",
      "i_Xi:  0.004066355534391402\n",
      "Time taken for execution of iteration (seconds):  1.8832018375396729\n",
      "###############################################################################\n",
      "Iteration # 4\n",
      "Theta (in arcmins):  2.01174840492126\n",
      "i_Xi:  0.0032427153391979074\n",
      "Time taken for execution of iteration (seconds):  1.8707282543182373\n",
      "###############################################################################\n",
      "Iteration # 5\n",
      "Theta (in arcmins):  2.4564560522315806\n",
      "i_Xi:  0.0025615903499640364\n",
      "Time taken for execution of iteration (seconds):  1.9047784805297852\n",
      "###############################################################################\n",
      "Iteration # 6\n",
      "Theta (in arcmins):  2.999468681960427\n",
      "i_Xi:  0.0021426703848304272\n",
      "Time taken for execution of iteration (seconds):  1.8529653549194336\n",
      "###############################################################################\n",
      "Iteration # 7\n",
      "Theta (in arcmins):  3.662517131494462\n",
      "i_Xi:  0.0019909795374116477\n",
      "Time taken for execution of iteration (seconds):  1.8267264366149902\n",
      "###############################################################################\n",
      "Iteration # 8\n",
      "Theta (in arcmins):  4.472135954999579\n",
      "i_Xi:  0.0015501694683534395\n",
      "Time taken for execution of iteration (seconds):  2.1166486740112305\n",
      "###############################################################################\n",
      "Iteration # 9\n",
      "Theta (in arcmins):  5.460725310474971\n",
      "i_Xi:  0.0013696816948411262\n",
      "Time taken for execution of iteration (seconds):  1.8260278701782227\n",
      "###############################################################################\n",
      "Iteration # 10\n",
      "Theta (in arcmins):  6.66784758256858\n",
      "i_Xi:  0.001211020356144402\n",
      "Time taken for execution of iteration (seconds):  1.8200092315673828\n",
      "###############################################################################\n",
      "Iteration # 11\n",
      "Theta (in arcmins):  8.141810630738087\n",
      "i_Xi:  0.0009634681199965764\n",
      "Time taken for execution of iteration (seconds):  1.8014700412750244\n",
      "###############################################################################\n",
      "Iteration # 12\n",
      "Theta (in arcmins):  9.941601022809213\n",
      "i_Xi:  0.0008337209513420515\n",
      "Time taken for execution of iteration (seconds):  1.799551248550415\n",
      "###############################################################################\n",
      "Iteration # 13\n",
      "Theta (in arcmins):  12.139244620058344\n",
      "i_Xi:  0.0007835807679665479\n",
      "Time taken for execution of iteration (seconds):  1.8604509830474854\n",
      "###############################################################################\n",
      "Iteration # 14\n",
      "Theta (in arcmins):  14.822688982138953\n",
      "i_Xi:  0.0006354290328066468\n",
      "Time taken for execution of iteration (seconds):  1.8296825885772705\n",
      "###############################################################################\n",
      "Iteration # 15\n",
      "Theta (in arcmins):  18.099322942893917\n",
      "i_Xi:  0.0005745625366902034\n",
      "Time taken for execution of iteration (seconds):  1.7657625675201416\n",
      "###############################################################################\n",
      "Iteration # 16\n",
      "Theta (in arcmins):  22.10027420705515\n",
      "i_Xi:  0.0004898056742950369\n",
      "Time taken for execution of iteration (seconds):  1.7571048736572266\n",
      "###############################################################################\n",
      "Iteration # 17\n",
      "Theta (in arcmins):  26.98565695347126\n",
      "i_Xi:  0.00042627674377541263\n",
      "Time taken for execution of iteration (seconds):  1.801863670349121\n",
      "###############################################################################\n",
      "Iteration # 18\n",
      "Theta (in arcmins):  32.95097944884131\n",
      "i_Xi:  0.0003408439190225252\n",
      "Time taken for execution of iteration (seconds):  1.3722577095031738\n",
      "###############################################################################\n",
      "Iteration # 19\n",
      "Theta (in arcmins):  40.23496809842519\n",
      "i_Xi:  0.0002885975023644782\n",
      "Time taken for execution of iteration (seconds):  1.326385736465454\n",
      "###############################################################################\n",
      "Iteration # 20\n",
      "Theta (in arcmins):  49.1291210446316\n",
      "i_Xi:  0.00023337809258846227\n",
      "Time taken for execution of iteration (seconds):  1.2238569259643555\n",
      "###############################################################################\n",
      "Iteration # 21\n",
      "Theta (in arcmins):  59.989373639208544\n",
      "i_Xi:  0.00019275450804282803\n",
      "Time taken for execution of iteration (seconds):  1.3046329021453857\n",
      "###############################################################################\n",
      "Iteration # 22\n",
      "Theta (in arcmins):  73.25034262988925\n",
      "i_Xi:  0.00013942908275876574\n",
      "Time taken for execution of iteration (seconds):  1.5555555820465088\n",
      "###############################################################################\n",
      "Iteration # 23\n",
      "Theta (in arcmins):  89.44271909999159\n",
      "i_Xi:  0.00011163409387732152\n",
      "Time taken for execution of iteration (seconds):  1.3916606903076172\n",
      "###############################################################################\n",
      "Iteration # 24\n",
      "Theta (in arcmins):  109.21450620949943\n",
      "i_Xi:  0.00010523689236843034\n",
      "Time taken for execution of iteration (seconds):  1.1288120746612549\n",
      "###############################################################################\n",
      "Iteration # 25\n",
      "Theta (in arcmins):  133.35695165137162\n",
      "i_Xi:  0.00010593159915660944\n",
      "Time taken for execution of iteration (seconds):  0.9242954254150391\n",
      "###############################################################################\n",
      "Iteration # 26\n",
      "Theta (in arcmins):  162.83621261476173\n",
      "i_Xi:  8.982027736742049e-05\n",
      "Time taken for execution of iteration (seconds):  0.7876694202423096\n",
      "###############################################################################\n",
      "Iteration # 27\n",
      "Theta (in arcmins):  198.8320204561842\n",
      "i_Xi:  6.714863382136582e-05\n",
      "Time taken for execution of iteration (seconds):  0.6997826099395752\n"
     ]
    }
   ],
   "source": [
    "# Evaluate the integrated bispectrum (for lognormal density field) for given scale angles\n",
    "\n",
    "kk = treecorr.KKCorrelation(min_sep=1, max_sep=400, nbins=30, sep_units='arcmin')\n",
    "theta_scale_log_vec = kk.logr # in log arcmins\n",
    "\n",
    "##########################\n",
    "### Manual integration ###\n",
    "##########################\n",
    "\n",
    "theta_scale_vec = np.exp(theta_scale_log_vec)\n",
    "i_Xi_vec = np.zeros(theta_scale_vec.size)\n",
    "for i in range(theta_scale_vec.size-3):\n",
    "    # the last 3 theta scales are bigger than the patch radius\n",
    "    print('###############################################################################')\n",
    "    print('Iteration #',str(i+1))\n",
    "    start_iter = time.time()\n",
    "    print('Theta (in arcmins): ', theta_scale_vec[i]) # weighted mean value of r for the pairs in each bin used by treecorr\n",
    "    i_Xi_vec[i] = integrated_lognormal_3pt_corr_manual(theta_scale_vec[i]*np.pi/180/60, patch_radius, log_shift, A_L, 10000)\n",
    "    print('i_Xi: ', i_Xi_vec[i])\n",
    "    end_iter = time.time()\n",
    "    print('Time taken for execution of iteration (seconds): ', end_iter - start_iter)\n",
    "\n",
    "dat = np.array([theta_scale_vec, i_Xi_vec])\n",
    "\n",
    "#dat = dat.T\n",
    "#np.savetxt('i_Xi_theoretical_lognormal_patch_'+str(sq_degrees)+'_sq_degrees.txt', dat, delimiter = ' ')    "
   ]
  },
  {
   "cell_type": "code",
   "execution_count": 10,
   "metadata": {},
   "outputs": [
    {
     "data": {
      "text/plain": [
       "<matplotlib.legend.Legend at 0x7f618e4d3c88>"
      ]
     },
     "execution_count": 10,
     "metadata": {},
     "output_type": "execute_result"
    },
    {
     "data": {
      "image/png": "[encoded data removed]",
      "text/plain": [
       "<Figure size 648x648 with 1 Axes>"
      ]
     },
     "metadata": {
      "needs_background": "light"
     },
     "output_type": "display_data"
    }
   ],
   "source": [
    "####################################\n",
    "# Theoretical i_Xi plot\n",
    "####################################\n",
    "#theta_scale_vec = np.loadtxt('i_Xi_theoretical_lognormal_patch_'+str(sq_degrees)+'_sq_degrees.txt', usecols=(0)) # in arcmins\n",
    "#i_Xi_vec = np.loadtxt('i_Xi_theoretical_lognormal_patch_'+str(sq_degrees)+'_sq_degrees.txt', usecols=(1))\n",
    "plt.figure(figsize=(9,9))\n",
    "plt.plot(theta_scale_vec, i_Xi_vec, c='r', label='theoretical i_Xi(theta)')\n",
    "plt.xlim(1,400)\n",
    "#plt.ylim(1e-6, 1e-1)\n",
    "#plt.ylim(-0.005, 0.015)\n",
    "plt.xscale('log')\n",
    "#plt.yscale('log')\n",
    "plt.axhline(0, linestyle='dashed')\n",
    "plt.xlabel('Angle, theta (arcmins)', fontsize=14)\n",
    "plt.ylabel('Integrated 3-pt function, i_Xi', fontsize=14)\n",
    "plt.title('Integrated 3-pt function of lognormal field ('+str(sq_degrees)+' sq degrees patch)')\n",
    "plt.legend(fontsize=13)\n",
    "#plt.savefig('i_Xi_theoretical_lognormal_patch_'+str(sq_degrees)+'_sq_degrees.pdf')"
   ]
  },
  {
   "cell_type": "code",
   "execution_count": 11,
   "metadata": {},
   "outputs": [
    {
     "data": {
      "text/plain": [
       "<matplotlib.legend.Legend at 0x7f618e358240>"
      ]
     },
     "execution_count": 11,
     "metadata": {},
     "output_type": "execute_result"
    },
    {
     "data": {
      "image/png": "[encoded data removed]",
      "text/plain": [
       "<Figure size 648x648 with 1 Axes>"
      ]
     },
     "metadata": {
      "needs_background": "light"
     },
     "output_type": "display_data"
    }
   ],
   "source": [
    "####################################\n",
    "# Theoretical & simulations i_Xi plot\n",
    "####################################\n",
    "theta_mean_all_maps_vec = np.loadtxt('i_Xi_simulations_lognormal_'+str(maps_count)+'_maps_'+str(patch_count)+'_patches_'+str(sq_degrees)+'_sq_degrees.txt', usecols=(0)) # in arcmins\n",
    "i_Xi_mean_all_maps_vec = np.loadtxt('i_Xi_simulations_lognormal_'+str(maps_count)+'_maps_'+str(patch_count)+'_patches_'+str(sq_degrees)+'_sq_degrees.txt', usecols=(1))\n",
    "i_Xi_std_dev_all_maps_vec = np.loadtxt('i_Xi_simulations_lognormal_'+str(maps_count)+'_maps_'+str(patch_count)+'_patches_'+str(sq_degrees)+'_sq_degrees.txt', usecols=(2))\n",
    "i_Xi_std_dev_mean_all_maps_vec = np.loadtxt('i_Xi_simulations_lognormal_'+str(maps_count)+'_maps_'+str(patch_count)+'_patches_'+str(sq_degrees)+'_sq_degrees.txt', usecols=(3))\n",
    "\n",
    "\n",
    "plt.figure(figsize=(9,9))\n",
    "plt.plot(theta_scale_vec, i_Xi_vec, c='r', label='theoretical i_Xi(theta)')\n",
    "plt.errorbar(theta_mean_all_maps_vec, i_Xi_mean_all_maps_vec, yerr=i_Xi_std_dev_all_maps_vec, marker=10, label='i_Xi - one map error')\n",
    "plt.errorbar(theta_mean_all_maps_vec, i_Xi_mean_all_maps_vec, yerr=i_Xi_std_dev_mean_all_maps_vec, marker=10, color='k', label='i_Xi - mean error')\n",
    "plt.xlim(1,400)\n",
    "#plt.ylim(1e-6, 1e-1)\n",
    "#plt.ylim(-0.005, 0.015)\n",
    "plt.xscale('log')\n",
    "#plt.yscale('log')\n",
    "plt.axhline(0, linestyle='dashed')\n",
    "plt.xlabel('Angle, theta (arcmins)', fontsize=14)\n",
    "plt.ylabel('Integrated 3-pt function, i_Xi', fontsize=14)\n",
    "plt.title('Integrated 3-pt function of lognormal field ('+str(sq_degrees)+' sq degrees patch)')\n",
    "plt.legend(fontsize=13)\n",
    "#plt.savefig('i_Xi_lognormal_theoretical_simulations_patch_'+str(sq_degrees)+'_sq_degrees.pdf')"
   ]
  },
  {
   "cell_type": "code",
   "execution_count": 12,
   "metadata": {},
   "outputs": [
    {
     "name": "stderr",
     "output_type": "stream",
     "text": [
      "/home/anik/anaconda3/lib/python3.6/site-packages/ipykernel_launcher.py:5: RuntimeWarning: invalid value encountered in true_divide\n",
      "  \"\"\"\n"
     ]
    },
    {
     "data": {
      "text/plain": [
       "Text(0.5, 1.0, 'Ratio of simulatiion and theoretical i_Xi (10 sq degrees patch)')"
      ]
     },
     "execution_count": 12,
     "metadata": {},
     "output_type": "execute_result"
    },
    {
     "data": {
      "image/png": "[encoded data removed]",
      "text/plain": [
       "<Figure size 648x648 with 1 Axes>"
      ]
     },
     "metadata": {
      "needs_background": "light"
     },
     "output_type": "display_data"
    }
   ],
   "source": [
    "####################################\n",
    "# Ratio plot\n",
    "####################################\n",
    "plt.figure(figsize=(9,9))\n",
    "plt.scatter(theta_mean_all_maps_vec, i_Xi_mean_all_maps_vec/i_Xi_vec)\n",
    "plt.ylim(0,10)\n",
    "plt.xscale('log')\n",
    "plt.axhline(2, linestyle='dashed')\n",
    "plt.xlabel('Angle, theta (arcmins)', fontsize=14)\n",
    "plt.ylabel('Ratio', fontsize=14)\n",
    "plt.title('Ratio of simulatiion and theoretical i_Xi ('+str(sq_degrees)+' sq degrees patch)')\n",
    "#plt.savefig('i_Xi_lognormal_ratio_simulations_theoretical_patch_'+str(sq_degrees)+'_sq_degrees.pdf')"
   ]
  },
  {
   "cell_type": "markdown",
   "metadata": {},
   "source": [
    "### For Vegas integration"
   ]
  },
  {
   "cell_type": "code",
   "execution_count": 13,
   "metadata": {},
   "outputs": [],
   "source": [
    "kk = treecorr.KKCorrelation(min_sep=1, max_sep=400, nbins=30, sep_units='arcmin')\n",
    "theta_scale_log_vec = kk.logr # in log arcmins"
   ]
  },
  {
   "cell_type": "code",
   "execution_count": 14,
   "metadata": {},
   "outputs": [
    {
     "data": {
      "text/plain": [
       "array([0.09985774, 0.29957323, 0.49928871, 0.6990042 , 0.89871968,\n",
       "       1.09843517, 1.29815065, 1.49786614, 1.69758162, 1.89729711,\n",
       "       2.09701259, 2.29672808, 2.49644356, 2.69615905, 2.89587453,\n",
       "       3.09559002, 3.2953055 , 3.49502099, 3.69473647, 3.89445196,\n",
       "       4.09416744, 4.29388293, 4.49359841, 4.6933139 , 4.89302938,\n",
       "       5.09274487, 5.29246035, 5.49217583, 5.69189132, 5.8916068 ])"
      ]
     },
     "execution_count": 14,
     "metadata": {},
     "output_type": "execute_result"
    }
   ],
   "source": [
    "theta_scale_log_vec"
   ]
  },
  {
   "cell_type": "code",
   "execution_count": 15,
   "metadata": {},
   "outputs": [
    {
     "data": {
      "text/plain": [
       "array([  1.10501371,   1.34928285,   1.64754897,   2.0117484 ,\n",
       "         2.45645605,   2.99946868,   3.66251713,   4.47213595,\n",
       "         5.46072531,   6.66784758,   8.14181063,   9.94160102,\n",
       "        12.13924462,  14.82268898,  18.09932294,  22.10027421,\n",
       "        26.98565695,  32.95097945,  40.2349681 ,  49.12912104,\n",
       "        59.98937364,  73.25034263,  89.4427191 , 109.21450621,\n",
       "       133.35695165, 162.83621261, 198.83202046, 242.7848924 ,\n",
       "       296.45377964, 361.98645886])"
      ]
     },
     "execution_count": 15,
     "metadata": {},
     "output_type": "execute_result"
    }
   ],
   "source": [
    "theta_scale_vec = np.exp(theta_scale_log_vec)\n",
    "\n",
    "theta_scale_vec"
   ]
  },
  {
   "cell_type": "code",
   "execution_count": 16,
   "metadata": {},
   "outputs": [],
   "source": [
    "bin_width_log = theta_scale_log_vec[1]-theta_scale_log_vec[0]\n",
    "\n",
    "theta_scale_log_bin_edges = np.zeros(theta_scale_log_vec.size + 1)\n",
    "\n",
    "theta_scale_log_bin_edges[0] = theta_scale_log_bin_edges[0]-bin_width_log/2\n",
    "for i in range(len(theta_scale_log_vec)):\n",
    "    theta_scale_log_bin_edges[i+1] = theta_scale_log_vec[i]+bin_width_log/2\n",
    "\n",
    "theta_scale_bin_edges = np.exp(theta_scale_log_bin_edges)"
   ]
  },
  {
   "cell_type": "code",
   "execution_count": 17,
   "metadata": {},
   "outputs": [
    {
     "data": {
      "text/plain": [
       "array([-0.09985774,  0.19971548,  0.39943097,  0.59914645,  0.79886194,\n",
       "        0.99857742,  1.19829291,  1.39800839,  1.59772388,  1.79743936,\n",
       "        1.99715485,  2.19687033,  2.39658582,  2.5963013 ,  2.79601679,\n",
       "        2.99573227,  3.19544776,  3.39516324,  3.59487873,  3.79459421,\n",
       "        3.9943097 ,  4.19402518,  4.39374067,  4.59345615,  4.79317164,\n",
       "        4.99288712,  5.19260261,  5.39231809,  5.59203358,  5.79174906,\n",
       "        5.99146455])"
      ]
     },
     "execution_count": 17,
     "metadata": {},
     "output_type": "execute_result"
    }
   ],
   "source": [
    "theta_scale_log_bin_edges"
   ]
  },
  {
   "cell_type": "code",
   "execution_count": 18,
   "metadata": {},
   "outputs": [],
   "source": [
    "theta_scale_bin_edges = np.exp(theta_scale_log_bin_edges)"
   ]
  },
  {
   "cell_type": "code",
   "execution_count": 19,
   "metadata": {},
   "outputs": [
    {
     "data": {
      "text/plain": [
       "array([  0.90496615,   1.2210553 ,   1.49097605,   1.8205642 ,\n",
       "         2.22300957,   2.71441762,   3.31445402,   4.04713164,\n",
       "         4.94177154,   6.03417634,   7.368063  ,   8.99681237,\n",
       "        10.98560543,  13.41403174,  16.37927455,  20.        ,\n",
       "        24.421106  ,  29.81952092,  36.41128406,  44.46019138,\n",
       "        54.28835233,  66.28908035,  80.94263289,  98.8354309 ,\n",
       "       120.68352673, 147.36125995, 179.93624748, 219.71210866,\n",
       "       268.28063477, 327.58549099, 400.        ])"
      ]
     },
     "execution_count": 19,
     "metadata": {},
     "output_type": "execute_result"
    }
   ],
   "source": [
    "theta_scale_bin_edges"
   ]
  },
  {
   "cell_type": "code",
   "execution_count": 20,
   "metadata": {},
   "outputs": [
    {
     "name": "stdout",
     "output_type": "stream",
     "text": [
      "###############################################################################\n",
      "Iteration # 1\n",
      "Theta (in arcmins):  1.1050137103527575\n",
      "[0.00026324398144604035, 0.00035519058891844]\n",
      "###############################################################################\n",
      "Iteration # 2\n",
      "Theta (in arcmins):  1.3492828476735632\n",
      "[0.00035519058891844, 0.0004337073511329821]\n",
      "###############################################################################\n",
      "Iteration # 3\n",
      "Theta (in arcmins):  1.6475489724420656\n",
      "[0.0004337073511329821, 0.0005295806597791935]\n",
      "###############################################################################\n",
      "Iteration # 4\n",
      "Theta (in arcmins):  2.01174840492126\n",
      "[0.0005295806597791935, 0.0006466472714366638]\n",
      "###############################################################################\n",
      "Iteration # 5\n",
      "Theta (in arcmins):  2.4564560522315806\n",
      "[0.0006466472714366638, 0.0007895920780619699]\n",
      "###############################################################################\n",
      "Iteration # 6\n",
      "Theta (in arcmins):  2.999468681960427\n",
      "[0.0007895920780619699, 0.0009641355918089332]\n",
      "###############################################################################\n",
      "Iteration # 7\n",
      "Theta (in arcmins):  3.662517131494462\n",
      "[0.0009641355918089332, 0.0011772628743620796]\n",
      "###############################################################################\n",
      "Iteration # 8\n",
      "Theta (in arcmins):  4.472135954999579\n",
      "[0.0011772628743620796, 0.0014375030723125966]\n",
      "###############################################################################\n",
      "Iteration # 9\n",
      "Theta (in arcmins):  5.460725310474971\n",
      "[0.0014375030723125966, 0.0017552707453107085]\n",
      "###############################################################################\n",
      "Iteration # 10\n",
      "Theta (in arcmins):  6.66784758256858\n",
      "[0.0017552707453107085, 0.002143282646615191]\n",
      "###############################################################################\n",
      "Iteration # 11\n",
      "Theta (in arcmins):  8.141810630738087\n",
      "[0.002143282646615191, 0.0026170666351923244]\n",
      "###############################################################################\n",
      "Iteration # 12\n",
      "Theta (in arcmins):  9.941601022809213\n",
      "[0.0026170666351923244, 0.0031955830855315845]\n",
      "###############################################################################\n",
      "Iteration # 13\n",
      "Theta (in arcmins):  12.139244620058344\n",
      "[0.0031955830855315845, 0.003901983663394614]\n",
      "###############################################################################\n",
      "Iteration # 14\n",
      "Theta (in arcmins):  14.822688982138953\n",
      "[0.003901983663394614, 0.004764537832965058]\n",
      "###############################################################################\n",
      "Iteration # 15\n",
      "Theta (in arcmins):  18.099322942893917\n",
      "[0.004764537832965058, 0.005817764173314431]\n",
      "###############################################################################\n",
      "Iteration # 16\n",
      "Theta (in arcmins):  22.10027420705515\n",
      "[0.005817764173314431, 0.007103811778368799]\n",
      "###############################################################################\n",
      "Iteration # 17\n",
      "Theta (in arcmins):  26.98565695347126\n",
      "[0.007103811778368799, 0.00867414702265964]\n",
      "###############################################################################\n",
      "Iteration # 18\n",
      "Theta (in arcmins):  32.95097944884131\n",
      "[0.00867414702265964, 0.010591613195583867]\n",
      "###############################################################################\n",
      "Iteration # 19\n",
      "Theta (in arcmins):  40.23496809842519\n",
      "[0.010591613195583867, 0.012932945428733276]\n",
      "###############################################################################\n",
      "Iteration # 20\n",
      "Theta (in arcmins):  49.1291210446316\n",
      "[0.012932945428733276, 0.01579184156123939]\n",
      "###############################################################################\n",
      "Iteration # 21\n",
      "Theta (in arcmins):  59.989373639208544\n",
      "[0.01579184156123939, 0.01928271183617867]\n",
      "###############################################################################\n",
      "Iteration # 22\n",
      "Theta (in arcmins):  73.25034262988925\n",
      "[0.01928271183617867, 0.023545257487241587]\n",
      "###############################################################################\n",
      "Iteration # 23\n",
      "Theta (in arcmins):  89.44271909999159\n",
      "[0.023545257487241587, 0.02875006144625193]\n",
      "###############################################################################\n",
      "Iteration # 24\n",
      "Theta (in arcmins):  109.21450620949943\n",
      "[0.02875006144625193, 0.03510541490621418]\n",
      "###############################################################################\n",
      "Iteration # 25\n",
      "Theta (in arcmins):  133.35695165137162\n",
      "[0.03510541490621418, 0.04286565293230383]\n",
      "###############################################################################\n",
      "Iteration # 26\n",
      "Theta (in arcmins):  162.83621261476173\n",
      "[0.04286565293230383, 0.05234133270384648]\n",
      "###############################################################################\n",
      "Iteration # 27\n",
      "Theta (in arcmins):  198.8320204561842\n",
      "[0.05234133270384648, 0.06391166171063169]\n",
      "###############################################################################\n",
      "Iteration # 28\n",
      "Theta (in arcmins):  242.78489240116684\n",
      "[0.06391166171063169, 0.07803967326789227]\n",
      "###############################################################################\n",
      "Iteration # 29\n",
      "Theta (in arcmins):  296.453779642779\n",
      "[0.07803967326789227, 0.09529075665930117]\n",
      "###############################################################################\n",
      "Iteration # 30\n",
      "Theta (in arcmins):  361.98645885787823\n",
      "[0.09529075665930117, 0.1163552834662886]\n"
     ]
    }
   ],
   "source": [
    "for i in range(theta_scale_log_vec.size):\n",
    "    print('###############################################################################')\n",
    "    print('Iteration #',str(i+1))\n",
    "    #start_iter = time.time()\n",
    "    print('Theta (in arcmins): ', theta_scale_vec[i]) # nominal bin center\n",
    "    theta_scale_interval = [theta_scale_bin_edges[i]*np.pi/180/60, theta_scale_bin_edges[i+1]*np.pi/180/60]  # from arcmins to radians\n",
    "    #i_Xi_vec[i] = integrated_lognormal_3pt_corr_vegas(theta_scale_interval, t_patch_radius, log_shift, A_L)\n",
    "    print(theta_scale_interval)\n",
    "    #end_iter = time.time()\n",
    "    #print('Time taken for execution of iteration (seconds): ', end_iter - start_iter)"
   ]
  },
  {
   "cell_type": "code",
   "execution_count": null,
   "metadata": {},
   "outputs": [],
   "source": []
  }
 ],
 "metadata": {
  "kernelspec": {
   "display_name": "Python 3",
   "language": "python",
   "name": "python3"
  },
  "language_info": {
   "codemirror_mode": {
    "name": "ipython",
    "version": 3
   },
   "file_extension": ".py",
   "mimetype": "text/x-python",
   "name": "python",
   "nbconvert_exporter": "python",
   "pygments_lexer": "ipython3",
   "version": "3.6.8"
  }
 },
 "nbformat": 4,
 "nbformat_minor": 2
}
